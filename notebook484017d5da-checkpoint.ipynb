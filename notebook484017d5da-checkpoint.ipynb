{
 "cells": [
  {
   "cell_type": "code",
   "execution_count": 78,
   "metadata": {
    "_cell_guid": "b1076dfc-b9ad-4769-8c92-a6c4dae69d19",
    "_uuid": "8f2839f25d086af736a60e9eeb907d3b93b6e0e5",
    "execution": {
     "iopub.execute_input": "2021-07-06T11:57:45.452286Z",
     "iopub.status.busy": "2021-07-06T11:57:45.451913Z",
     "iopub.status.idle": "2021-07-06T11:57:45.463086Z",
     "shell.execute_reply": "2021-07-06T11:57:45.461984Z",
     "shell.execute_reply.started": "2021-07-06T11:57:45.452253Z"
    }
   },
   "outputs": [
    {
     "name": "stdout",
     "output_type": "stream",
     "text": [
      "/kaggle/input/world-capitals-gps/concap.csv\n",
      "/kaggle/input/sf-dst-restaurant-rating/sample_submission.csv\n",
      "/kaggle/input/sf-dst-restaurant-rating/main_task.csv\n",
      "/kaggle/input/sf-dst-restaurant-rating/kaggle_task.csv\n"
     ]
    }
   ],
   "source": [
    "# This Python 3 environment comes with many helpful analytics libraries installed\n",
    "# It is defined by the kaggle/python Docker image: https://github.com/kaggle/docker-python\n",
    "# For example, here's several helpful packages to load\n",
    "\n",
    "import numpy as np # linear algebra\n",
    "import pandas as pd # data processing, CSV file I/O (e.g. pd.read_csv)\n",
    "\n",
    "# Input data files are available in the read-only \"../input/\" directory\n",
    "# For example, running this (by clicking run or pressing Shift+Enter) will list all files under the input directory\n",
    "\n",
    "import os\n",
    "for dirname, _, filenames in os.walk('/kaggle/input'):\n",
    "    for filename in filenames:\n",
    "        print(os.path.join(dirname, filename))\n",
    "\n",
    "# You can write up to 20GB to the current directory (/kaggle/working/) that gets preserved as output when you create a version using \"Save & Run All\" \n",
    "# You can also write temporary files to /kaggle/temp/, but they won't be saved outside of the current session"
   ]
  },
  {
   "cell_type": "code",
   "execution_count": 79,
   "metadata": {
    "execution": {
     "iopub.execute_input": "2021-07-06T11:57:45.468533Z",
     "iopub.status.busy": "2021-07-06T11:57:45.467980Z",
     "iopub.status.idle": "2021-07-06T11:57:45.477473Z",
     "shell.execute_reply": "2021-07-06T11:57:45.476484Z",
     "shell.execute_reply.started": "2021-07-06T11:57:45.468495Z"
    }
   },
   "outputs": [],
   "source": [
    "# всегда фиксируйте RANDOM_SEED, чтобы ваши эксперименты были воспроизводимы!\n",
    "RANDOM_SEED = 42"
   ]
  },
  {
   "cell_type": "code",
   "execution_count": 80,
   "metadata": {
    "execution": {
     "iopub.execute_input": "2021-07-06T11:57:45.548979Z",
     "iopub.status.busy": "2021-07-06T11:57:45.548565Z",
     "iopub.status.idle": "2021-07-06T11:57:47.313313Z",
     "shell.execute_reply": "2021-07-06T11:57:47.311839Z",
     "shell.execute_reply.started": "2021-07-06T11:57:45.548943Z"
    }
   },
   "outputs": [],
   "source": [
    "# зафиксируем версию пакетов, чтобы эксперименты были воспроизводимы:\n",
    "!pip freeze > requirements.txt"
   ]
  },
  {
   "cell_type": "markdown",
   "metadata": {},
   "source": [
    "# DATA"
   ]
  },
  {
   "cell_type": "code",
   "execution_count": 81,
   "metadata": {
    "execution": {
     "iopub.execute_input": "2021-07-06T11:57:47.315591Z",
     "iopub.status.busy": "2021-07-06T11:57:47.315235Z",
     "iopub.status.idle": "2021-07-06T11:57:47.611940Z",
     "shell.execute_reply": "2021-07-06T11:57:47.610817Z",
     "shell.execute_reply.started": "2021-07-06T11:57:47.315552Z"
    }
   },
   "outputs": [],
   "source": [
    "DATA_DIR = '/kaggle/input/sf-dst-restaurant-rating/'\n",
    "df_train = pd.read_csv(DATA_DIR+'/main_task.csv')\n",
    "df_test = pd.read_csv(DATA_DIR+'kaggle_task.csv')\n",
    "sample_submission = pd.read_csv(DATA_DIR+'/sample_submission.csv')"
   ]
  },
  {
   "cell_type": "code",
   "execution_count": 82,
   "metadata": {
    "execution": {
     "iopub.execute_input": "2021-07-06T11:57:47.614156Z",
     "iopub.status.busy": "2021-07-06T11:57:47.613859Z",
     "iopub.status.idle": "2021-07-06T11:57:47.623035Z",
     "shell.execute_reply": "2021-07-06T11:57:47.622012Z",
     "shell.execute_reply.started": "2021-07-06T11:57:47.614125Z"
    }
   },
   "outputs": [],
   "source": [
    "#нашел на kaggle датасет со столицами государств, попробую использовать для создания нового признака\n",
    "# является ли город столицей государства или нет\n",
    "capital_df = pd.read_csv('/kaggle/input/world-capitals-gps/concap.csv')"
   ]
  },
  {
   "cell_type": "code",
   "execution_count": 83,
   "metadata": {
    "execution": {
     "iopub.execute_input": "2021-07-06T11:57:47.625226Z",
     "iopub.status.busy": "2021-07-06T11:57:47.624900Z",
     "iopub.status.idle": "2021-07-06T11:57:47.670375Z",
     "shell.execute_reply": "2021-07-06T11:57:47.669237Z",
     "shell.execute_reply.started": "2021-07-06T11:57:47.625195Z"
    }
   },
   "outputs": [
    {
     "name": "stdout",
     "output_type": "stream",
     "text": [
      "<class 'pandas.core.frame.DataFrame'>\n",
      "RangeIndex: 40000 entries, 0 to 39999\n",
      "Data columns (total 10 columns):\n",
      " #   Column             Non-Null Count  Dtype  \n",
      "---  ------             --------------  -----  \n",
      " 0   Restaurant_id      40000 non-null  object \n",
      " 1   City               40000 non-null  object \n",
      " 2   Cuisine Style      30717 non-null  object \n",
      " 3   Ranking            40000 non-null  float64\n",
      " 4   Rating             40000 non-null  float64\n",
      " 5   Price Range        26114 non-null  object \n",
      " 6   Number of Reviews  37457 non-null  float64\n",
      " 7   Reviews            40000 non-null  object \n",
      " 8   URL_TA             40000 non-null  object \n",
      " 9   ID_TA              40000 non-null  object \n",
      "dtypes: float64(3), object(7)\n",
      "memory usage: 3.1+ MB\n"
     ]
    }
   ],
   "source": [
    "df_train.info()"
   ]
  },
  {
   "cell_type": "markdown",
   "metadata": {},
   "source": [
    "# Подробнее по признакам:\n",
    "\n",
    "1. City: Город\n",
    "2. Cuisine Style: Кухня\n",
    "3. Ranking: Ранг ресторана относительно других ресторанов в этом городе\n",
    "4. Price Range: Цены в ресторане в 3 категориях\n",
    "5. Number of Reviews: Количество отзывов\n",
    "6. Reviews: 2 последних отзыва и даты этих отзывов\n",
    "7. URL_TA: страница ресторана на 'www.tripadvisor.com'\n",
    "8. ID_TA: ID ресторана в TripAdvisor\n",
    "9. Rating: Рейтинг ресторана"
   ]
  },
  {
   "cell_type": "markdown",
   "metadata": {},
   "source": [
    "Видим, что:\n",
    "Переменная (Целевая переменная) \"Rating\" - не содержит пропусков (40000 non-null)\n",
    "\n",
    "1. Признаки без пропусков:\n",
    "* Restaurant_id\n",
    "* City\n",
    "* Ranking\n",
    "* Rating\n",
    "* Reviews\n",
    "* URL_TA\n",
    "* ID_TA\n",
    "2. Признаки, содержащие пропуски:\n",
    "* Cuisine Style\n",
    "* Price Range\n",
    "* Number of Reviews\n",
    "\n",
    "3. Переменные, данные которых представлены в числовом формате (float64):\n",
    "* Ranking\n",
    "* Rating - целевая переменная\n",
    "* Number of Reviews\n",
    "4. Переменные, данные которых представлены в смешанном формате:\n",
    "* Cuisine Style\n",
    "* Reviews"
   ]
  },
  {
   "cell_type": "code",
   "execution_count": 84,
   "metadata": {
    "execution": {
     "iopub.execute_input": "2021-07-06T11:57:47.672307Z",
     "iopub.status.busy": "2021-07-06T11:57:47.671887Z",
     "iopub.status.idle": "2021-07-06T11:57:47.704345Z",
     "shell.execute_reply": "2021-07-06T11:57:47.703281Z",
     "shell.execute_reply.started": "2021-07-06T11:57:47.672261Z"
    }
   },
   "outputs": [
    {
     "data": {
      "text/html": [
       "<div>\n",
       "<style scoped>\n",
       "    .dataframe tbody tr th:only-of-type {\n",
       "        vertical-align: middle;\n",
       "    }\n",
       "\n",
       "    .dataframe tbody tr th {\n",
       "        vertical-align: top;\n",
       "    }\n",
       "\n",
       "    .dataframe thead th {\n",
       "        text-align: right;\n",
       "    }\n",
       "</style>\n",
       "<table border=\"1\" class=\"dataframe\">\n",
       "  <thead>\n",
       "    <tr style=\"text-align: right;\">\n",
       "      <th></th>\n",
       "      <th>Ranking</th>\n",
       "      <th>Rating</th>\n",
       "      <th>Number of Reviews</th>\n",
       "    </tr>\n",
       "  </thead>\n",
       "  <tbody>\n",
       "    <tr>\n",
       "      <th>count</th>\n",
       "      <td>40000.000000</td>\n",
       "      <td>40000.000000</td>\n",
       "      <td>37457.000000</td>\n",
       "    </tr>\n",
       "    <tr>\n",
       "      <th>mean</th>\n",
       "      <td>3676.028525</td>\n",
       "      <td>3.993037</td>\n",
       "      <td>124.825480</td>\n",
       "    </tr>\n",
       "    <tr>\n",
       "      <th>std</th>\n",
       "      <td>3708.749567</td>\n",
       "      <td>0.668417</td>\n",
       "      <td>295.666352</td>\n",
       "    </tr>\n",
       "    <tr>\n",
       "      <th>min</th>\n",
       "      <td>1.000000</td>\n",
       "      <td>1.000000</td>\n",
       "      <td>2.000000</td>\n",
       "    </tr>\n",
       "    <tr>\n",
       "      <th>25%</th>\n",
       "      <td>973.000000</td>\n",
       "      <td>3.500000</td>\n",
       "      <td>9.000000</td>\n",
       "    </tr>\n",
       "    <tr>\n",
       "      <th>50%</th>\n",
       "      <td>2285.000000</td>\n",
       "      <td>4.000000</td>\n",
       "      <td>33.000000</td>\n",
       "    </tr>\n",
       "    <tr>\n",
       "      <th>75%</th>\n",
       "      <td>5260.000000</td>\n",
       "      <td>4.500000</td>\n",
       "      <td>115.000000</td>\n",
       "    </tr>\n",
       "    <tr>\n",
       "      <th>max</th>\n",
       "      <td>16444.000000</td>\n",
       "      <td>5.000000</td>\n",
       "      <td>9660.000000</td>\n",
       "    </tr>\n",
       "  </tbody>\n",
       "</table>\n",
       "</div>"
      ],
      "text/plain": [
       "            Ranking        Rating  Number of Reviews\n",
       "count  40000.000000  40000.000000       37457.000000\n",
       "mean    3676.028525      3.993037         124.825480\n",
       "std     3708.749567      0.668417         295.666352\n",
       "min        1.000000      1.000000           2.000000\n",
       "25%      973.000000      3.500000           9.000000\n",
       "50%     2285.000000      4.000000          33.000000\n",
       "75%     5260.000000      4.500000         115.000000\n",
       "max    16444.000000      5.000000        9660.000000"
      ]
     },
     "execution_count": 84,
     "metadata": {},
     "output_type": "execute_result"
    }
   ],
   "source": [
    "# Посмотрим на числовые переменные\n",
    "df_train.describe()"
   ]
  },
  {
   "cell_type": "code",
   "execution_count": 85,
   "metadata": {
    "execution": {
     "iopub.execute_input": "2021-07-06T11:57:47.705923Z",
     "iopub.status.busy": "2021-07-06T11:57:47.705624Z",
     "iopub.status.idle": "2021-07-06T11:57:47.730475Z",
     "shell.execute_reply": "2021-07-06T11:57:47.729293Z",
     "shell.execute_reply.started": "2021-07-06T11:57:47.705895Z"
    }
   },
   "outputs": [
    {
     "data": {
      "text/html": [
       "<div>\n",
       "<style scoped>\n",
       "    .dataframe tbody tr th:only-of-type {\n",
       "        vertical-align: middle;\n",
       "    }\n",
       "\n",
       "    .dataframe tbody tr th {\n",
       "        vertical-align: top;\n",
       "    }\n",
       "\n",
       "    .dataframe thead th {\n",
       "        text-align: right;\n",
       "    }\n",
       "</style>\n",
       "<table border=\"1\" class=\"dataframe\">\n",
       "  <thead>\n",
       "    <tr style=\"text-align: right;\">\n",
       "      <th></th>\n",
       "      <th>Restaurant_id</th>\n",
       "      <th>City</th>\n",
       "      <th>Cuisine Style</th>\n",
       "      <th>Ranking</th>\n",
       "      <th>Rating</th>\n",
       "      <th>Price Range</th>\n",
       "      <th>Number of Reviews</th>\n",
       "      <th>Reviews</th>\n",
       "      <th>URL_TA</th>\n",
       "      <th>ID_TA</th>\n",
       "    </tr>\n",
       "  </thead>\n",
       "  <tbody>\n",
       "    <tr>\n",
       "      <th>0</th>\n",
       "      <td>id_5569</td>\n",
       "      <td>Paris</td>\n",
       "      <td>['European', 'French', 'International']</td>\n",
       "      <td>5570.0</td>\n",
       "      <td>3.5</td>\n",
       "      <td>$$ - $$$</td>\n",
       "      <td>194.0</td>\n",
       "      <td>[['Good food at your doorstep', 'A good hotel ...</td>\n",
       "      <td>/Restaurant_Review-g187147-d1912643-Reviews-R_...</td>\n",
       "      <td>d1912643</td>\n",
       "    </tr>\n",
       "    <tr>\n",
       "      <th>1</th>\n",
       "      <td>id_1535</td>\n",
       "      <td>Stockholm</td>\n",
       "      <td>NaN</td>\n",
       "      <td>1537.0</td>\n",
       "      <td>4.0</td>\n",
       "      <td>NaN</td>\n",
       "      <td>10.0</td>\n",
       "      <td>[['Unique cuisine', 'Delicious Nepalese food']...</td>\n",
       "      <td>/Restaurant_Review-g189852-d7992032-Reviews-Bu...</td>\n",
       "      <td>d7992032</td>\n",
       "    </tr>\n",
       "    <tr>\n",
       "      <th>2</th>\n",
       "      <td>id_352</td>\n",
       "      <td>London</td>\n",
       "      <td>['Japanese', 'Sushi', 'Asian', 'Grill', 'Veget...</td>\n",
       "      <td>353.0</td>\n",
       "      <td>4.5</td>\n",
       "      <td>$$$$</td>\n",
       "      <td>688.0</td>\n",
       "      <td>[['Catch up with friends', 'Not exceptional'],...</td>\n",
       "      <td>/Restaurant_Review-g186338-d8632781-Reviews-RO...</td>\n",
       "      <td>d8632781</td>\n",
       "    </tr>\n",
       "    <tr>\n",
       "      <th>3</th>\n",
       "      <td>id_3456</td>\n",
       "      <td>Berlin</td>\n",
       "      <td>NaN</td>\n",
       "      <td>3458.0</td>\n",
       "      <td>5.0</td>\n",
       "      <td>NaN</td>\n",
       "      <td>3.0</td>\n",
       "      <td>[[], []]</td>\n",
       "      <td>/Restaurant_Review-g187323-d1358776-Reviews-Es...</td>\n",
       "      <td>d1358776</td>\n",
       "    </tr>\n",
       "    <tr>\n",
       "      <th>4</th>\n",
       "      <td>id_615</td>\n",
       "      <td>Munich</td>\n",
       "      <td>['German', 'Central European', 'Vegetarian Fri...</td>\n",
       "      <td>621.0</td>\n",
       "      <td>4.0</td>\n",
       "      <td>$$ - $$$</td>\n",
       "      <td>84.0</td>\n",
       "      <td>[['Best place to try a Bavarian food', 'Nice b...</td>\n",
       "      <td>/Restaurant_Review-g187309-d6864963-Reviews-Au...</td>\n",
       "      <td>d6864963</td>\n",
       "    </tr>\n",
       "    <tr>\n",
       "      <th>5</th>\n",
       "      <td>id_1418</td>\n",
       "      <td>Oporto</td>\n",
       "      <td>NaN</td>\n",
       "      <td>1419.0</td>\n",
       "      <td>3.0</td>\n",
       "      <td>NaN</td>\n",
       "      <td>2.0</td>\n",
       "      <td>[['There are better 3 star hotel bars', 'Amazi...</td>\n",
       "      <td>/Restaurant_Review-g189180-d12503536-Reviews-D...</td>\n",
       "      <td>d12503536</td>\n",
       "    </tr>\n",
       "    <tr>\n",
       "      <th>6</th>\n",
       "      <td>id_1720</td>\n",
       "      <td>Milan</td>\n",
       "      <td>['Italian', 'Pizza']</td>\n",
       "      <td>1722.0</td>\n",
       "      <td>4.0</td>\n",
       "      <td>$</td>\n",
       "      <td>50.0</td>\n",
       "      <td>[['Excellent simple local eatery.', 'Excellent...</td>\n",
       "      <td>/Restaurant_Review-g187849-d5808504-Reviews-Pi...</td>\n",
       "      <td>d5808504</td>\n",
       "    </tr>\n",
       "    <tr>\n",
       "      <th>7</th>\n",
       "      <td>id_825</td>\n",
       "      <td>Bratislava</td>\n",
       "      <td>['Italian']</td>\n",
       "      <td>826.0</td>\n",
       "      <td>3.0</td>\n",
       "      <td>NaN</td>\n",
       "      <td>9.0</td>\n",
       "      <td>[['Wasting of money', 'excellent cuisine'], ['...</td>\n",
       "      <td>/Restaurant_Review-g274924-d3199765-Reviews-Ri...</td>\n",
       "      <td>d3199765</td>\n",
       "    </tr>\n",
       "    <tr>\n",
       "      <th>8</th>\n",
       "      <td>id_2690</td>\n",
       "      <td>Vienna</td>\n",
       "      <td>NaN</td>\n",
       "      <td>2692.0</td>\n",
       "      <td>4.0</td>\n",
       "      <td>NaN</td>\n",
       "      <td>NaN</td>\n",
       "      <td>[[], []]</td>\n",
       "      <td>/Restaurant_Review-g190454-d12845029-Reviews-G...</td>\n",
       "      <td>d12845029</td>\n",
       "    </tr>\n",
       "    <tr>\n",
       "      <th>9</th>\n",
       "      <td>id_4209</td>\n",
       "      <td>Rome</td>\n",
       "      <td>['Italian', 'Pizza', 'Fast Food']</td>\n",
       "      <td>4210.0</td>\n",
       "      <td>4.0</td>\n",
       "      <td>$</td>\n",
       "      <td>55.0</td>\n",
       "      <td>[['Clean efficient staff', 'Nice little pizza ...</td>\n",
       "      <td>/Restaurant_Review-g187791-d8020681-Reviews-Qu...</td>\n",
       "      <td>d8020681</td>\n",
       "    </tr>\n",
       "  </tbody>\n",
       "</table>\n",
       "</div>"
      ],
      "text/plain": [
       "  Restaurant_id        City  \\\n",
       "0       id_5569       Paris   \n",
       "1       id_1535   Stockholm   \n",
       "2        id_352      London   \n",
       "3       id_3456      Berlin   \n",
       "4        id_615      Munich   \n",
       "5       id_1418      Oporto   \n",
       "6       id_1720       Milan   \n",
       "7        id_825  Bratislava   \n",
       "8       id_2690      Vienna   \n",
       "9       id_4209        Rome   \n",
       "\n",
       "                                       Cuisine Style  Ranking  Rating  \\\n",
       "0            ['European', 'French', 'International']   5570.0     3.5   \n",
       "1                                                NaN   1537.0     4.0   \n",
       "2  ['Japanese', 'Sushi', 'Asian', 'Grill', 'Veget...    353.0     4.5   \n",
       "3                                                NaN   3458.0     5.0   \n",
       "4  ['German', 'Central European', 'Vegetarian Fri...    621.0     4.0   \n",
       "5                                                NaN   1419.0     3.0   \n",
       "6                               ['Italian', 'Pizza']   1722.0     4.0   \n",
       "7                                        ['Italian']    826.0     3.0   \n",
       "8                                                NaN   2692.0     4.0   \n",
       "9                  ['Italian', 'Pizza', 'Fast Food']   4210.0     4.0   \n",
       "\n",
       "  Price Range  Number of Reviews  \\\n",
       "0    $$ - $$$              194.0   \n",
       "1         NaN               10.0   \n",
       "2        $$$$              688.0   \n",
       "3         NaN                3.0   \n",
       "4    $$ - $$$               84.0   \n",
       "5         NaN                2.0   \n",
       "6           $               50.0   \n",
       "7         NaN                9.0   \n",
       "8         NaN                NaN   \n",
       "9           $               55.0   \n",
       "\n",
       "                                             Reviews  \\\n",
       "0  [['Good food at your doorstep', 'A good hotel ...   \n",
       "1  [['Unique cuisine', 'Delicious Nepalese food']...   \n",
       "2  [['Catch up with friends', 'Not exceptional'],...   \n",
       "3                                           [[], []]   \n",
       "4  [['Best place to try a Bavarian food', 'Nice b...   \n",
       "5  [['There are better 3 star hotel bars', 'Amazi...   \n",
       "6  [['Excellent simple local eatery.', 'Excellent...   \n",
       "7  [['Wasting of money', 'excellent cuisine'], ['...   \n",
       "8                                           [[], []]   \n",
       "9  [['Clean efficient staff', 'Nice little pizza ...   \n",
       "\n",
       "                                              URL_TA      ID_TA  \n",
       "0  /Restaurant_Review-g187147-d1912643-Reviews-R_...   d1912643  \n",
       "1  /Restaurant_Review-g189852-d7992032-Reviews-Bu...   d7992032  \n",
       "2  /Restaurant_Review-g186338-d8632781-Reviews-RO...   d8632781  \n",
       "3  /Restaurant_Review-g187323-d1358776-Reviews-Es...   d1358776  \n",
       "4  /Restaurant_Review-g187309-d6864963-Reviews-Au...   d6864963  \n",
       "5  /Restaurant_Review-g189180-d12503536-Reviews-D...  d12503536  \n",
       "6  /Restaurant_Review-g187849-d5808504-Reviews-Pi...   d5808504  \n",
       "7  /Restaurant_Review-g274924-d3199765-Reviews-Ri...   d3199765  \n",
       "8  /Restaurant_Review-g190454-d12845029-Reviews-G...  d12845029  \n",
       "9  /Restaurant_Review-g187791-d8020681-Reviews-Qu...   d8020681  "
      ]
     },
     "execution_count": 85,
     "metadata": {},
     "output_type": "execute_result"
    }
   ],
   "source": [
    "df_train.head(10)"
   ]
  },
  {
   "cell_type": "code",
   "execution_count": 86,
   "metadata": {
    "execution": {
     "iopub.execute_input": "2021-07-06T11:57:47.732186Z",
     "iopub.status.busy": "2021-07-06T11:57:47.731881Z",
     "iopub.status.idle": "2021-07-06T11:57:47.758713Z",
     "shell.execute_reply": "2021-07-06T11:57:47.757459Z",
     "shell.execute_reply.started": "2021-07-06T11:57:47.732156Z"
    }
   },
   "outputs": [
    {
     "name": "stdout",
     "output_type": "stream",
     "text": [
      "<class 'pandas.core.frame.DataFrame'>\n",
      "RangeIndex: 10000 entries, 0 to 9999\n",
      "Data columns (total 9 columns):\n",
      " #   Column             Non-Null Count  Dtype  \n",
      "---  ------             --------------  -----  \n",
      " 0   Restaurant_id      10000 non-null  object \n",
      " 1   City               10000 non-null  object \n",
      " 2   Cuisine Style      7693 non-null   object \n",
      " 3   Ranking            10000 non-null  float64\n",
      " 4   Price Range        6525 non-null   object \n",
      " 5   Number of Reviews  9343 non-null   float64\n",
      " 6   Reviews            9998 non-null   object \n",
      " 7   URL_TA             10000 non-null  object \n",
      " 8   ID_TA              10000 non-null  object \n",
      "dtypes: float64(2), object(7)\n",
      "memory usage: 703.2+ KB\n"
     ]
    }
   ],
   "source": [
    "df_test.info()"
   ]
  },
  {
   "cell_type": "code",
   "execution_count": 87,
   "metadata": {
    "execution": {
     "iopub.execute_input": "2021-07-06T11:57:47.763525Z",
     "iopub.status.busy": "2021-07-06T11:57:47.763151Z",
     "iopub.status.idle": "2021-07-06T11:57:47.782476Z",
     "shell.execute_reply": "2021-07-06T11:57:47.781524Z",
     "shell.execute_reply.started": "2021-07-06T11:57:47.763487Z"
    }
   },
   "outputs": [
    {
     "data": {
      "text/html": [
       "<div>\n",
       "<style scoped>\n",
       "    .dataframe tbody tr th:only-of-type {\n",
       "        vertical-align: middle;\n",
       "    }\n",
       "\n",
       "    .dataframe tbody tr th {\n",
       "        vertical-align: top;\n",
       "    }\n",
       "\n",
       "    .dataframe thead th {\n",
       "        text-align: right;\n",
       "    }\n",
       "</style>\n",
       "<table border=\"1\" class=\"dataframe\">\n",
       "  <thead>\n",
       "    <tr style=\"text-align: right;\">\n",
       "      <th></th>\n",
       "      <th>Restaurant_id</th>\n",
       "      <th>City</th>\n",
       "      <th>Cuisine Style</th>\n",
       "      <th>Ranking</th>\n",
       "      <th>Price Range</th>\n",
       "      <th>Number of Reviews</th>\n",
       "      <th>Reviews</th>\n",
       "      <th>URL_TA</th>\n",
       "      <th>ID_TA</th>\n",
       "    </tr>\n",
       "  </thead>\n",
       "  <tbody>\n",
       "    <tr>\n",
       "      <th>0</th>\n",
       "      <td>id_0</td>\n",
       "      <td>Paris</td>\n",
       "      <td>['Bar', 'Pub']</td>\n",
       "      <td>12963.0</td>\n",
       "      <td>$$ - $$$</td>\n",
       "      <td>4.0</td>\n",
       "      <td>[[], []]</td>\n",
       "      <td>/Restaurant_Review-g187147-d10746918-Reviews-L...</td>\n",
       "      <td>d10746918</td>\n",
       "    </tr>\n",
       "    <tr>\n",
       "      <th>1</th>\n",
       "      <td>id_1</td>\n",
       "      <td>Helsinki</td>\n",
       "      <td>['European', 'Scandinavian', 'Gluten Free Opti...</td>\n",
       "      <td>106.0</td>\n",
       "      <td>$$ - $$$</td>\n",
       "      <td>97.0</td>\n",
       "      <td>[['Very good reviews!', 'Fine dining in Hakani...</td>\n",
       "      <td>/Restaurant_Review-g189934-d6674944-Reviews-Ra...</td>\n",
       "      <td>d6674944</td>\n",
       "    </tr>\n",
       "    <tr>\n",
       "      <th>2</th>\n",
       "      <td>id_2</td>\n",
       "      <td>Edinburgh</td>\n",
       "      <td>['Vegetarian Friendly']</td>\n",
       "      <td>810.0</td>\n",
       "      <td>$$ - $$$</td>\n",
       "      <td>28.0</td>\n",
       "      <td>[['Better than the Links', 'Ivy Black'], ['12/...</td>\n",
       "      <td>/Restaurant_Review-g186525-d13129638-Reviews-B...</td>\n",
       "      <td>d13129638</td>\n",
       "    </tr>\n",
       "    <tr>\n",
       "      <th>3</th>\n",
       "      <td>id_3</td>\n",
       "      <td>London</td>\n",
       "      <td>['Italian', 'Mediterranean', 'European', 'Vege...</td>\n",
       "      <td>1669.0</td>\n",
       "      <td>$$$$</td>\n",
       "      <td>202.0</td>\n",
       "      <td>[['Most exquisite', 'Delicious and authentic']...</td>\n",
       "      <td>/Restaurant_Review-g186338-d680417-Reviews-Qui...</td>\n",
       "      <td>d680417</td>\n",
       "    </tr>\n",
       "    <tr>\n",
       "      <th>4</th>\n",
       "      <td>id_4</td>\n",
       "      <td>Bratislava</td>\n",
       "      <td>['Italian', 'Mediterranean', 'European', 'Seaf...</td>\n",
       "      <td>37.0</td>\n",
       "      <td>$$$$</td>\n",
       "      <td>162.0</td>\n",
       "      <td>[['Always the best in bratislava', 'Very good ...</td>\n",
       "      <td>/Restaurant_Review-g274924-d1112354-Reviews-Ma...</td>\n",
       "      <td>d1112354</td>\n",
       "    </tr>\n",
       "  </tbody>\n",
       "</table>\n",
       "</div>"
      ],
      "text/plain": [
       "  Restaurant_id        City  \\\n",
       "0          id_0       Paris   \n",
       "1          id_1    Helsinki   \n",
       "2          id_2   Edinburgh   \n",
       "3          id_3      London   \n",
       "4          id_4  Bratislava   \n",
       "\n",
       "                                       Cuisine Style  Ranking Price Range  \\\n",
       "0                                     ['Bar', 'Pub']  12963.0    $$ - $$$   \n",
       "1  ['European', 'Scandinavian', 'Gluten Free Opti...    106.0    $$ - $$$   \n",
       "2                            ['Vegetarian Friendly']    810.0    $$ - $$$   \n",
       "3  ['Italian', 'Mediterranean', 'European', 'Vege...   1669.0        $$$$   \n",
       "4  ['Italian', 'Mediterranean', 'European', 'Seaf...     37.0        $$$$   \n",
       "\n",
       "   Number of Reviews                                            Reviews  \\\n",
       "0                4.0                                           [[], []]   \n",
       "1               97.0  [['Very good reviews!', 'Fine dining in Hakani...   \n",
       "2               28.0  [['Better than the Links', 'Ivy Black'], ['12/...   \n",
       "3              202.0  [['Most exquisite', 'Delicious and authentic']...   \n",
       "4              162.0  [['Always the best in bratislava', 'Very good ...   \n",
       "\n",
       "                                              URL_TA      ID_TA  \n",
       "0  /Restaurant_Review-g187147-d10746918-Reviews-L...  d10746918  \n",
       "1  /Restaurant_Review-g189934-d6674944-Reviews-Ra...   d6674944  \n",
       "2  /Restaurant_Review-g186525-d13129638-Reviews-B...  d13129638  \n",
       "3  /Restaurant_Review-g186338-d680417-Reviews-Qui...    d680417  \n",
       "4  /Restaurant_Review-g274924-d1112354-Reviews-Ma...   d1112354  "
      ]
     },
     "execution_count": 87,
     "metadata": {},
     "output_type": "execute_result"
    }
   ],
   "source": [
    "df_test.head()"
   ]
  },
  {
   "cell_type": "code",
   "execution_count": 88,
   "metadata": {
    "execution": {
     "iopub.execute_input": "2021-07-06T11:57:47.784885Z",
     "iopub.status.busy": "2021-07-06T11:57:47.784555Z",
     "iopub.status.idle": "2021-07-06T11:57:47.800499Z",
     "shell.execute_reply": "2021-07-06T11:57:47.799337Z",
     "shell.execute_reply.started": "2021-07-06T11:57:47.784850Z"
    }
   },
   "outputs": [
    {
     "data": {
      "text/html": [
       "<div>\n",
       "<style scoped>\n",
       "    .dataframe tbody tr th:only-of-type {\n",
       "        vertical-align: middle;\n",
       "    }\n",
       "\n",
       "    .dataframe tbody tr th {\n",
       "        vertical-align: top;\n",
       "    }\n",
       "\n",
       "    .dataframe thead th {\n",
       "        text-align: right;\n",
       "    }\n",
       "</style>\n",
       "<table border=\"1\" class=\"dataframe\">\n",
       "  <thead>\n",
       "    <tr style=\"text-align: right;\">\n",
       "      <th></th>\n",
       "      <th>Restaurant_id</th>\n",
       "      <th>Rating</th>\n",
       "    </tr>\n",
       "  </thead>\n",
       "  <tbody>\n",
       "    <tr>\n",
       "      <th>0</th>\n",
       "      <td>id_0</td>\n",
       "      <td>2.0</td>\n",
       "    </tr>\n",
       "    <tr>\n",
       "      <th>1</th>\n",
       "      <td>id_1</td>\n",
       "      <td>2.5</td>\n",
       "    </tr>\n",
       "    <tr>\n",
       "      <th>2</th>\n",
       "      <td>id_2</td>\n",
       "      <td>4.0</td>\n",
       "    </tr>\n",
       "    <tr>\n",
       "      <th>3</th>\n",
       "      <td>id_3</td>\n",
       "      <td>1.0</td>\n",
       "    </tr>\n",
       "    <tr>\n",
       "      <th>4</th>\n",
       "      <td>id_4</td>\n",
       "      <td>4.0</td>\n",
       "    </tr>\n",
       "  </tbody>\n",
       "</table>\n",
       "</div>"
      ],
      "text/plain": [
       "  Restaurant_id  Rating\n",
       "0          id_0     2.0\n",
       "1          id_1     2.5\n",
       "2          id_2     4.0\n",
       "3          id_3     1.0\n",
       "4          id_4     4.0"
      ]
     },
     "execution_count": 88,
     "metadata": {},
     "output_type": "execute_result"
    }
   ],
   "source": [
    "sample_submission.head()"
   ]
  },
  {
   "cell_type": "code",
   "execution_count": 89,
   "metadata": {
    "execution": {
     "iopub.execute_input": "2021-07-06T11:57:47.802801Z",
     "iopub.status.busy": "2021-07-06T11:57:47.802302Z",
     "iopub.status.idle": "2021-07-06T11:57:47.824715Z",
     "shell.execute_reply": "2021-07-06T11:57:47.823415Z",
     "shell.execute_reply.started": "2021-07-06T11:57:47.802754Z"
    }
   },
   "outputs": [
    {
     "name": "stdout",
     "output_type": "stream",
     "text": [
      "<class 'pandas.core.frame.DataFrame'>\n",
      "RangeIndex: 10000 entries, 0 to 9999\n",
      "Data columns (total 2 columns):\n",
      " #   Column         Non-Null Count  Dtype  \n",
      "---  ------         --------------  -----  \n",
      " 0   Restaurant_id  10000 non-null  object \n",
      " 1   Rating         10000 non-null  float64\n",
      "dtypes: float64(1), object(1)\n",
      "memory usage: 156.4+ KB\n"
     ]
    }
   ],
   "source": [
    "sample_submission.info()"
   ]
  },
  {
   "cell_type": "code",
   "execution_count": 90,
   "metadata": {
    "execution": {
     "iopub.execute_input": "2021-07-06T11:57:47.827136Z",
     "iopub.status.busy": "2021-07-06T11:57:47.826711Z",
     "iopub.status.idle": "2021-07-06T11:57:47.862898Z",
     "shell.execute_reply": "2021-07-06T11:57:47.861927Z",
     "shell.execute_reply.started": "2021-07-06T11:57:47.827092Z"
    }
   },
   "outputs": [],
   "source": [
    "# ВАЖНО! дря корректной обработки признаков объединяем трейн и тест в один датасет\n",
    "df_train['sample'] = 1 # помечаем где у нас трейн\n",
    "df_test['sample'] = 0 # помечаем где у нас тест\n",
    "df_test['Rating'] = 0 # в тесте у нас нет значения Rating, мы его должны предсказать, по этому пока просто заполняем нулями\n",
    "\n",
    "data = df_test.append(df_train, sort=False).reset_index(drop=True) # объединяем"
   ]
  },
  {
   "cell_type": "code",
   "execution_count": 91,
   "metadata": {
    "execution": {
     "iopub.execute_input": "2021-07-06T11:57:47.864539Z",
     "iopub.status.busy": "2021-07-06T11:57:47.864238Z",
     "iopub.status.idle": "2021-07-06T11:57:47.914678Z",
     "shell.execute_reply": "2021-07-06T11:57:47.913579Z",
     "shell.execute_reply.started": "2021-07-06T11:57:47.864512Z"
    }
   },
   "outputs": [
    {
     "name": "stdout",
     "output_type": "stream",
     "text": [
      "<class 'pandas.core.frame.DataFrame'>\n",
      "RangeIndex: 50000 entries, 0 to 49999\n",
      "Data columns (total 11 columns):\n",
      " #   Column             Non-Null Count  Dtype  \n",
      "---  ------             --------------  -----  \n",
      " 0   Restaurant_id      50000 non-null  object \n",
      " 1   City               50000 non-null  object \n",
      " 2   Cuisine Style      38410 non-null  object \n",
      " 3   Ranking            50000 non-null  float64\n",
      " 4   Price Range        32639 non-null  object \n",
      " 5   Number of Reviews  46800 non-null  float64\n",
      " 6   Reviews            49998 non-null  object \n",
      " 7   URL_TA             50000 non-null  object \n",
      " 8   ID_TA              50000 non-null  object \n",
      " 9   sample             50000 non-null  int64  \n",
      " 10  Rating             50000 non-null  float64\n",
      "dtypes: float64(3), int64(1), object(7)\n",
      "memory usage: 4.2+ MB\n"
     ]
    }
   ],
   "source": [
    "data.info()"
   ]
  },
  {
   "cell_type": "code",
   "execution_count": 92,
   "metadata": {
    "execution": {
     "iopub.execute_input": "2021-07-06T11:57:47.916425Z",
     "iopub.status.busy": "2021-07-06T11:57:47.916112Z",
     "iopub.status.idle": "2021-07-06T11:57:47.961919Z",
     "shell.execute_reply": "2021-07-06T11:57:47.960995Z",
     "shell.execute_reply.started": "2021-07-06T11:57:47.916393Z"
    }
   },
   "outputs": [
    {
     "data": {
      "text/plain": [
       "Restaurant_id            0\n",
       "City                     0\n",
       "Cuisine Style        11590\n",
       "Ranking                  0\n",
       "Price Range          17361\n",
       "Number of Reviews     3200\n",
       "Reviews                  2\n",
       "URL_TA                   0\n",
       "ID_TA                    0\n",
       "sample                   0\n",
       "Rating                   0\n",
       "dtype: int64"
      ]
     },
     "execution_count": 92,
     "metadata": {},
     "output_type": "execute_result"
    }
   ],
   "source": [
    "#Посмотрим на общее количество пропусков в объединенном датафрейме\n",
    "data.isna().sum()"
   ]
  },
  {
   "cell_type": "code",
   "execution_count": 93,
   "metadata": {
    "execution": {
     "iopub.execute_input": "2021-07-06T11:57:47.964321Z",
     "iopub.status.busy": "2021-07-06T11:57:47.963397Z",
     "iopub.status.idle": "2021-07-06T11:57:48.002996Z",
     "shell.execute_reply": "2021-07-06T11:57:48.001777Z",
     "shell.execute_reply.started": "2021-07-06T11:57:47.964269Z"
    }
   },
   "outputs": [
    {
     "data": {
      "text/html": [
       "<div>\n",
       "<style scoped>\n",
       "    .dataframe tbody tr th:only-of-type {\n",
       "        vertical-align: middle;\n",
       "    }\n",
       "\n",
       "    .dataframe tbody tr th {\n",
       "        vertical-align: top;\n",
       "    }\n",
       "\n",
       "    .dataframe thead th {\n",
       "        text-align: right;\n",
       "    }\n",
       "</style>\n",
       "<table border=\"1\" class=\"dataframe\">\n",
       "  <thead>\n",
       "    <tr style=\"text-align: right;\">\n",
       "      <th></th>\n",
       "      <th>Restaurant_id</th>\n",
       "      <th>City</th>\n",
       "      <th>Cuisine Style</th>\n",
       "      <th>Ranking</th>\n",
       "      <th>Price Range</th>\n",
       "      <th>Number of Reviews</th>\n",
       "      <th>Reviews</th>\n",
       "      <th>URL_TA</th>\n",
       "      <th>ID_TA</th>\n",
       "      <th>sample</th>\n",
       "      <th>Rating</th>\n",
       "    </tr>\n",
       "  </thead>\n",
       "  <tbody>\n",
       "    <tr>\n",
       "      <th>14336</th>\n",
       "      <td>id_4995</td>\n",
       "      <td>London</td>\n",
       "      <td>['Bar', 'British', 'Pub', 'Gastropub', 'Vegeta...</td>\n",
       "      <td>5004.0</td>\n",
       "      <td>$$ - $$$</td>\n",
       "      <td>251.0</td>\n",
       "      <td>[['Appreciation of staff working in one of th....</td>\n",
       "      <td>/Restaurant_Review-g186338-d1018971-Reviews-Th...</td>\n",
       "      <td>d1018971</td>\n",
       "      <td>1</td>\n",
       "      <td>4.0</td>\n",
       "    </tr>\n",
       "    <tr>\n",
       "      <th>23452</th>\n",
       "      <td>id_304</td>\n",
       "      <td>Krakow</td>\n",
       "      <td>['Cafe', 'European', 'Mediterranean', 'Central...</td>\n",
       "      <td>305.0</td>\n",
       "      <td>$$ - $$$</td>\n",
       "      <td>50.0</td>\n",
       "      <td>[['Cool garden setting', 'Holiday in Krakow'],...</td>\n",
       "      <td>/Restaurant_Review-g274772-d7827375-Reviews-Me...</td>\n",
       "      <td>d7827375</td>\n",
       "      <td>1</td>\n",
       "      <td>4.5</td>\n",
       "    </tr>\n",
       "    <tr>\n",
       "      <th>32222</th>\n",
       "      <td>id_3777</td>\n",
       "      <td>Paris</td>\n",
       "      <td>['French', 'European']</td>\n",
       "      <td>3778.0</td>\n",
       "      <td>$$ - $$$</td>\n",
       "      <td>53.0</td>\n",
       "      <td>[['Lovely french local cafe', 'Pleasant meal']...</td>\n",
       "      <td>/Restaurant_Review-g187147-d9590757-Reviews-Le...</td>\n",
       "      <td>d9590757</td>\n",
       "      <td>1</td>\n",
       "      <td>4.0</td>\n",
       "    </tr>\n",
       "    <tr>\n",
       "      <th>19410</th>\n",
       "      <td>id_5928</td>\n",
       "      <td>Barcelona</td>\n",
       "      <td>['Spanish']</td>\n",
       "      <td>5929.0</td>\n",
       "      <td>NaN</td>\n",
       "      <td>3.0</td>\n",
       "      <td>[['Delicius and cheap!'], ['08/20/2017']]</td>\n",
       "      <td>/Restaurant_Review-g187497-d6871119-Reviews-Ba...</td>\n",
       "      <td>d6871119</td>\n",
       "      <td>1</td>\n",
       "      <td>3.5</td>\n",
       "    </tr>\n",
       "    <tr>\n",
       "      <th>27262</th>\n",
       "      <td>id_237</td>\n",
       "      <td>Dublin</td>\n",
       "      <td>['Irish', 'European', 'Vegetarian Friendly', '...</td>\n",
       "      <td>238.0</td>\n",
       "      <td>$$ - $$$</td>\n",
       "      <td>118.0</td>\n",
       "      <td>[['Fab', 'Delicious Food &amp; Lovely Experience']...</td>\n",
       "      <td>/Restaurant_Review-g186605-d9830811-Reviews-Ba...</td>\n",
       "      <td>d9830811</td>\n",
       "      <td>1</td>\n",
       "      <td>4.5</td>\n",
       "    </tr>\n",
       "  </tbody>\n",
       "</table>\n",
       "</div>"
      ],
      "text/plain": [
       "      Restaurant_id       City  \\\n",
       "14336       id_4995     London   \n",
       "23452        id_304     Krakow   \n",
       "32222       id_3777      Paris   \n",
       "19410       id_5928  Barcelona   \n",
       "27262        id_237     Dublin   \n",
       "\n",
       "                                           Cuisine Style  Ranking Price Range  \\\n",
       "14336  ['Bar', 'British', 'Pub', 'Gastropub', 'Vegeta...   5004.0    $$ - $$$   \n",
       "23452  ['Cafe', 'European', 'Mediterranean', 'Central...    305.0    $$ - $$$   \n",
       "32222                             ['French', 'European']   3778.0    $$ - $$$   \n",
       "19410                                        ['Spanish']   5929.0         NaN   \n",
       "27262  ['Irish', 'European', 'Vegetarian Friendly', '...    238.0    $$ - $$$   \n",
       "\n",
       "       Number of Reviews                                            Reviews  \\\n",
       "14336              251.0  [['Appreciation of staff working in one of th....   \n",
       "23452               50.0  [['Cool garden setting', 'Holiday in Krakow'],...   \n",
       "32222               53.0  [['Lovely french local cafe', 'Pleasant meal']...   \n",
       "19410                3.0          [['Delicius and cheap!'], ['08/20/2017']]   \n",
       "27262              118.0  [['Fab', 'Delicious Food & Lovely Experience']...   \n",
       "\n",
       "                                                  URL_TA     ID_TA  sample  \\\n",
       "14336  /Restaurant_Review-g186338-d1018971-Reviews-Th...  d1018971       1   \n",
       "23452  /Restaurant_Review-g274772-d7827375-Reviews-Me...  d7827375       1   \n",
       "32222  /Restaurant_Review-g187147-d9590757-Reviews-Le...  d9590757       1   \n",
       "19410  /Restaurant_Review-g187497-d6871119-Reviews-Ba...  d6871119       1   \n",
       "27262  /Restaurant_Review-g186605-d9830811-Reviews-Ba...  d9830811       1   \n",
       "\n",
       "       Rating  \n",
       "14336     4.0  \n",
       "23452     4.5  \n",
       "32222     4.0  \n",
       "19410     3.5  \n",
       "27262     4.5  "
      ]
     },
     "execution_count": 93,
     "metadata": {},
     "output_type": "execute_result"
    }
   ],
   "source": [
    "data.sample(5)"
   ]
  },
  {
   "cell_type": "code",
   "execution_count": 94,
   "metadata": {
    "execution": {
     "iopub.execute_input": "2021-07-06T11:57:48.005544Z",
     "iopub.status.busy": "2021-07-06T11:57:48.004744Z",
     "iopub.status.idle": "2021-07-06T11:57:48.012840Z",
     "shell.execute_reply": "2021-07-06T11:57:48.011551Z",
     "shell.execute_reply.started": "2021-07-06T11:57:48.005493Z"
    }
   },
   "outputs": [
    {
     "data": {
      "text/plain": [
       "\"[['Very good reviews!', 'Fine dining in Hakaniemi'], ['12/05/2017', '10/29/2017']]\""
      ]
     },
     "execution_count": 94,
     "metadata": {},
     "output_type": "execute_result"
    }
   ],
   "source": [
    "data.Reviews[1]"
   ]
  },
  {
   "cell_type": "markdown",
   "metadata": {},
   "source": [
    "# Cleaning and Prepping Data"
   ]
  },
  {
   "cell_type": "markdown",
   "metadata": {},
   "source": [
    "Обычно данные содержат в себе кучу мусора, который необходимо почистить, для того чтобы привести их в приемлемый формат. Чистка данных — это необходимый этап решения почти любой реальной задачи."
   ]
  },
  {
   "cell_type": "markdown",
   "metadata": {},
   "source": [
    "# 1. Обработка NAN"
   ]
  },
  {
   "cell_type": "markdown",
   "metadata": {},
   "source": [
    "У наличия пропусков могут быть разные причины, но пропуски нужно либо заполнить, либо исключить из набора полностью. Но с пропусками нужно быть внимательным, даже отсутствие информации может быть важным признаком!\n",
    "Поэтому перед обработкой NAN лучше вынести информацию о наличии пропуска как отдельный признак"
   ]
  },
  {
   "cell_type": "code",
   "execution_count": 95,
   "metadata": {
    "execution": {
     "iopub.execute_input": "2021-07-06T11:57:48.014603Z",
     "iopub.status.busy": "2021-07-06T11:57:48.014015Z",
     "iopub.status.idle": "2021-07-06T11:57:48.033975Z",
     "shell.execute_reply": "2021-07-06T11:57:48.033099Z",
     "shell.execute_reply.started": "2021-07-06T11:57:48.014572Z"
    }
   },
   "outputs": [],
   "source": [
    "# Как мы ранее выяснили - в нашем датасете 3 признака с пропусками, по всем трем вынесем наличие пропусков в отдельные самостоятельные признаки\n",
    "data['Number_of_Reviews_isNaN'] = pd.isna(data['Number of Reviews']).astype('uint8')\n",
    "data['Cuisine_Style_isNaN'] = pd.isna(data['Cuisine Style']).astype('uint8')\n",
    "data['Price_Range_isNaN'] = pd.isna(data['Price Range']).astype('uint8')"
   ]
  },
  {
   "cell_type": "code",
   "execution_count": 96,
   "metadata": {
    "execution": {
     "iopub.execute_input": "2021-07-06T11:57:48.035656Z",
     "iopub.status.busy": "2021-07-06T11:57:48.035216Z",
     "iopub.status.idle": "2021-07-06T11:57:48.064846Z",
     "shell.execute_reply": "2021-07-06T11:57:48.063657Z",
     "shell.execute_reply.started": "2021-07-06T11:57:48.035624Z"
    }
   },
   "outputs": [
    {
     "data": {
      "text/html": [
       "<div>\n",
       "<style scoped>\n",
       "    .dataframe tbody tr th:only-of-type {\n",
       "        vertical-align: middle;\n",
       "    }\n",
       "\n",
       "    .dataframe tbody tr th {\n",
       "        vertical-align: top;\n",
       "    }\n",
       "\n",
       "    .dataframe thead th {\n",
       "        text-align: right;\n",
       "    }\n",
       "</style>\n",
       "<table border=\"1\" class=\"dataframe\">\n",
       "  <thead>\n",
       "    <tr style=\"text-align: right;\">\n",
       "      <th></th>\n",
       "      <th>Restaurant_id</th>\n",
       "      <th>City</th>\n",
       "      <th>Cuisine Style</th>\n",
       "      <th>Ranking</th>\n",
       "      <th>Price Range</th>\n",
       "      <th>Number of Reviews</th>\n",
       "      <th>Reviews</th>\n",
       "      <th>URL_TA</th>\n",
       "      <th>ID_TA</th>\n",
       "      <th>sample</th>\n",
       "      <th>Rating</th>\n",
       "      <th>Number_of_Reviews_isNaN</th>\n",
       "      <th>Cuisine_Style_isNaN</th>\n",
       "      <th>Price_Range_isNaN</th>\n",
       "    </tr>\n",
       "  </thead>\n",
       "  <tbody>\n",
       "    <tr>\n",
       "      <th>0</th>\n",
       "      <td>id_0</td>\n",
       "      <td>Paris</td>\n",
       "      <td>['Bar', 'Pub']</td>\n",
       "      <td>12963.0</td>\n",
       "      <td>$$ - $$$</td>\n",
       "      <td>4.0</td>\n",
       "      <td>[[], []]</td>\n",
       "      <td>/Restaurant_Review-g187147-d10746918-Reviews-L...</td>\n",
       "      <td>d10746918</td>\n",
       "      <td>0</td>\n",
       "      <td>0.0</td>\n",
       "      <td>0</td>\n",
       "      <td>0</td>\n",
       "      <td>0</td>\n",
       "    </tr>\n",
       "    <tr>\n",
       "      <th>1</th>\n",
       "      <td>id_1</td>\n",
       "      <td>Helsinki</td>\n",
       "      <td>['European', 'Scandinavian', 'Gluten Free Opti...</td>\n",
       "      <td>106.0</td>\n",
       "      <td>$$ - $$$</td>\n",
       "      <td>97.0</td>\n",
       "      <td>[['Very good reviews!', 'Fine dining in Hakani...</td>\n",
       "      <td>/Restaurant_Review-g189934-d6674944-Reviews-Ra...</td>\n",
       "      <td>d6674944</td>\n",
       "      <td>0</td>\n",
       "      <td>0.0</td>\n",
       "      <td>0</td>\n",
       "      <td>0</td>\n",
       "      <td>0</td>\n",
       "    </tr>\n",
       "    <tr>\n",
       "      <th>2</th>\n",
       "      <td>id_2</td>\n",
       "      <td>Edinburgh</td>\n",
       "      <td>['Vegetarian Friendly']</td>\n",
       "      <td>810.0</td>\n",
       "      <td>$$ - $$$</td>\n",
       "      <td>28.0</td>\n",
       "      <td>[['Better than the Links', 'Ivy Black'], ['12/...</td>\n",
       "      <td>/Restaurant_Review-g186525-d13129638-Reviews-B...</td>\n",
       "      <td>d13129638</td>\n",
       "      <td>0</td>\n",
       "      <td>0.0</td>\n",
       "      <td>0</td>\n",
       "      <td>0</td>\n",
       "      <td>0</td>\n",
       "    </tr>\n",
       "    <tr>\n",
       "      <th>3</th>\n",
       "      <td>id_3</td>\n",
       "      <td>London</td>\n",
       "      <td>['Italian', 'Mediterranean', 'European', 'Vege...</td>\n",
       "      <td>1669.0</td>\n",
       "      <td>$$$$</td>\n",
       "      <td>202.0</td>\n",
       "      <td>[['Most exquisite', 'Delicious and authentic']...</td>\n",
       "      <td>/Restaurant_Review-g186338-d680417-Reviews-Qui...</td>\n",
       "      <td>d680417</td>\n",
       "      <td>0</td>\n",
       "      <td>0.0</td>\n",
       "      <td>0</td>\n",
       "      <td>0</td>\n",
       "      <td>0</td>\n",
       "    </tr>\n",
       "    <tr>\n",
       "      <th>4</th>\n",
       "      <td>id_4</td>\n",
       "      <td>Bratislava</td>\n",
       "      <td>['Italian', 'Mediterranean', 'European', 'Seaf...</td>\n",
       "      <td>37.0</td>\n",
       "      <td>$$$$</td>\n",
       "      <td>162.0</td>\n",
       "      <td>[['Always the best in bratislava', 'Very good ...</td>\n",
       "      <td>/Restaurant_Review-g274924-d1112354-Reviews-Ma...</td>\n",
       "      <td>d1112354</td>\n",
       "      <td>0</td>\n",
       "      <td>0.0</td>\n",
       "      <td>0</td>\n",
       "      <td>0</td>\n",
       "      <td>0</td>\n",
       "    </tr>\n",
       "  </tbody>\n",
       "</table>\n",
       "</div>"
      ],
      "text/plain": [
       "  Restaurant_id        City  \\\n",
       "0          id_0       Paris   \n",
       "1          id_1    Helsinki   \n",
       "2          id_2   Edinburgh   \n",
       "3          id_3      London   \n",
       "4          id_4  Bratislava   \n",
       "\n",
       "                                       Cuisine Style  Ranking Price Range  \\\n",
       "0                                     ['Bar', 'Pub']  12963.0    $$ - $$$   \n",
       "1  ['European', 'Scandinavian', 'Gluten Free Opti...    106.0    $$ - $$$   \n",
       "2                            ['Vegetarian Friendly']    810.0    $$ - $$$   \n",
       "3  ['Italian', 'Mediterranean', 'European', 'Vege...   1669.0        $$$$   \n",
       "4  ['Italian', 'Mediterranean', 'European', 'Seaf...     37.0        $$$$   \n",
       "\n",
       "   Number of Reviews                                            Reviews  \\\n",
       "0                4.0                                           [[], []]   \n",
       "1               97.0  [['Very good reviews!', 'Fine dining in Hakani...   \n",
       "2               28.0  [['Better than the Links', 'Ivy Black'], ['12/...   \n",
       "3              202.0  [['Most exquisite', 'Delicious and authentic']...   \n",
       "4              162.0  [['Always the best in bratislava', 'Very good ...   \n",
       "\n",
       "                                              URL_TA      ID_TA  sample  \\\n",
       "0  /Restaurant_Review-g187147-d10746918-Reviews-L...  d10746918       0   \n",
       "1  /Restaurant_Review-g189934-d6674944-Reviews-Ra...   d6674944       0   \n",
       "2  /Restaurant_Review-g186525-d13129638-Reviews-B...  d13129638       0   \n",
       "3  /Restaurant_Review-g186338-d680417-Reviews-Qui...    d680417       0   \n",
       "4  /Restaurant_Review-g274924-d1112354-Reviews-Ma...   d1112354       0   \n",
       "\n",
       "   Rating  Number_of_Reviews_isNaN  Cuisine_Style_isNaN  Price_Range_isNaN  \n",
       "0     0.0                        0                    0                  0  \n",
       "1     0.0                        0                    0                  0  \n",
       "2     0.0                        0                    0                  0  \n",
       "3     0.0                        0                    0                  0  \n",
       "4     0.0                        0                    0                  0  "
      ]
     },
     "execution_count": 96,
     "metadata": {},
     "output_type": "execute_result"
    }
   ],
   "source": [
    "data.head()"
   ]
  },
  {
   "cell_type": "markdown",
   "metadata": {},
   "source": [
    "# Возьмем признак Number of Reviews"
   ]
  },
  {
   "cell_type": "code",
   "execution_count": 97,
   "metadata": {
    "execution": {
     "iopub.execute_input": "2021-07-06T11:57:48.068347Z",
     "iopub.status.busy": "2021-07-06T11:57:48.067633Z",
     "iopub.status.idle": "2021-07-06T11:57:48.077466Z",
     "shell.execute_reply": "2021-07-06T11:57:48.076313Z",
     "shell.execute_reply.started": "2021-07-06T11:57:48.068297Z"
    }
   },
   "outputs": [],
   "source": [
    "# Попробуем заполнить пропуски в 'Number of Reviews' константой = 0 -> MAE: 0.21088749999999998\n",
    "#MAE: 0.21035125\n",
    "data['Number of Reviews'].fillna(0, inplace=True)"
   ]
  },
  {
   "cell_type": "code",
   "execution_count": 98,
   "metadata": {
    "execution": {
     "iopub.execute_input": "2021-07-06T11:57:48.079542Z",
     "iopub.status.busy": "2021-07-06T11:57:48.078955Z",
     "iopub.status.idle": "2021-07-06T11:57:48.093468Z",
     "shell.execute_reply": "2021-07-06T11:57:48.092348Z",
     "shell.execute_reply.started": "2021-07-06T11:57:48.079499Z"
    }
   },
   "outputs": [
    {
     "data": {
      "text/plain": [
       "116.50504"
      ]
     },
     "execution_count": 98,
     "metadata": {},
     "output_type": "execute_result"
    }
   ],
   "source": [
    "#Попробуем заполнить пропуски в 'Number of Reviews' средним значением -> MAE: 0.21188687499999997\n",
    "data['Number of Reviews'].mean()\n",
    "#data['Number of Reviews'].fillna(data['Number of Reviews'].mean(), inplace=True)\n",
    "# Значение MAE ухудшается по сравнению с заполнением константой = 0 -> не принимаем такой способ"
   ]
  },
  {
   "cell_type": "code",
   "execution_count": 99,
   "metadata": {
    "execution": {
     "iopub.execute_input": "2021-07-06T11:57:48.095286Z",
     "iopub.status.busy": "2021-07-06T11:57:48.094933Z",
     "iopub.status.idle": "2021-07-06T11:57:48.103082Z",
     "shell.execute_reply": "2021-07-06T11:57:48.102039Z",
     "shell.execute_reply.started": "2021-07-06T11:57:48.095237Z"
    }
   },
   "outputs": [
    {
     "name": "stdout",
     "output_type": "stream",
     "text": [
      "28.0\n"
     ]
    }
   ],
   "source": [
    "#Попробуем заполнить пропуски медианным значением -> MAE: 0.21208874999999996\n",
    "print(data['Number of Reviews'].median())\n",
    "#data['Number of Reviews'].fillna(data['Number of Reviews'].median(), inplace=True)\n",
    "# Значение MAE ухудшается по сравнению с заполнением константой = 0 -> не принимаем такой способ"
   ]
  },
  {
   "cell_type": "code",
   "execution_count": 100,
   "metadata": {
    "execution": {
     "iopub.execute_input": "2021-07-06T11:57:48.104896Z",
     "iopub.status.busy": "2021-07-06T11:57:48.104570Z",
     "iopub.status.idle": "2021-07-06T11:57:48.118202Z",
     "shell.execute_reply": "2021-07-06T11:57:48.117174Z",
     "shell.execute_reply.started": "2021-07-06T11:57:48.104852Z"
    }
   },
   "outputs": [
    {
     "name": "stdout",
     "output_type": "stream",
     "text": [
      "0.0\n"
     ]
    }
   ],
   "source": [
    "# Попробуем заполнить пропуски наиболее часто встречающимся значением - модой -> MAE: 0.21084562499999998\n",
    "#MAE: 0.21051375\n",
    "print(data['Number of Reviews'].mode()[0])\n",
    "#data['Number of Reviews'].fillna(data['Number of Reviews'].mode()[0], inplace=True)"
   ]
  },
  {
   "cell_type": "code",
   "execution_count": 101,
   "metadata": {
    "execution": {
     "iopub.execute_input": "2021-07-06T11:57:48.119984Z",
     "iopub.status.busy": "2021-07-06T11:57:48.119621Z",
     "iopub.status.idle": "2021-07-06T11:57:48.132537Z",
     "shell.execute_reply": "2021-07-06T11:57:48.131754Z",
     "shell.execute_reply.started": "2021-07-06T11:57:48.119931Z"
    }
   },
   "outputs": [
    {
     "data": {
      "text/plain": [
       "0.0       3200\n",
       "2.0       2403\n",
       "3.0       2042\n",
       "4.0       1707\n",
       "5.0       1471\n",
       "          ... \n",
       "1572.0       1\n",
       "941.0        1\n",
       "1807.0       1\n",
       "1108.0       1\n",
       "1045.0       1\n",
       "Name: Number of Reviews, Length: 1574, dtype: int64"
      ]
     },
     "execution_count": 101,
     "metadata": {},
     "output_type": "execute_result"
    }
   ],
   "source": [
    "# Проверим заполнение пропусков в переменной Number of Reviews\n",
    "data['Number of Reviews'].value_counts()"
   ]
  },
  {
   "cell_type": "markdown",
   "metadata": {},
   "source": [
    "# Возьмем следующий признак \"Price Range\".¶"
   ]
  },
  {
   "cell_type": "code",
   "execution_count": 102,
   "metadata": {
    "execution": {
     "iopub.execute_input": "2021-07-06T11:57:48.137762Z",
     "iopub.status.busy": "2021-07-06T11:57:48.137224Z",
     "iopub.status.idle": "2021-07-06T11:57:48.154604Z",
     "shell.execute_reply": "2021-07-06T11:57:48.153750Z",
     "shell.execute_reply.started": "2021-07-06T11:57:48.137726Z"
    }
   },
   "outputs": [
    {
     "data": {
      "text/plain": [
       "$$ - $$$    23041\n",
       "NaN         17361\n",
       "$            7816\n",
       "$$$$         1782\n",
       "Name: Price Range, dtype: int64"
      ]
     },
     "execution_count": 102,
     "metadata": {},
     "output_type": "execute_result"
    }
   ],
   "source": [
    "# Посчитаем количество ресторанов по ценовым категориям\n",
    "data['Price Range'].value_counts(dropna=False)"
   ]
  },
  {
   "cell_type": "markdown",
   "metadata": {},
   "source": [
    "По описанию 'Price Range' это - Цены в ресторане.\n",
    "Их можно поставить по возрастанию (значит это не категориальный признак). А это значит, что их можно заменить последовательными числами, например 1,2,3\n",
    "Попробуйте сделать обработку этого признака уже самостоятельно!"
   ]
  },
  {
   "cell_type": "code",
   "execution_count": 103,
   "metadata": {
    "execution": {
     "iopub.execute_input": "2021-07-06T11:57:48.158938Z",
     "iopub.status.busy": "2021-07-06T11:57:48.158474Z",
     "iopub.status.idle": "2021-07-06T11:57:48.193457Z",
     "shell.execute_reply": "2021-07-06T11:57:48.192461Z",
     "shell.execute_reply.started": "2021-07-06T11:57:48.158889Z"
    }
   },
   "outputs": [],
   "source": [
    "def price_range(price_category):\n",
    "    if price_category == '$':\n",
    "        return 1\n",
    "    elif price_category == '$$ - $$$':\n",
    "        return 2\n",
    "    elif  price_category == '$$$$':\n",
    "        return 3\n",
    "\n",
    "data['Price Range'] = data['Price Range'].apply(price_range)"
   ]
  },
  {
   "cell_type": "code",
   "execution_count": 104,
   "metadata": {
    "execution": {
     "iopub.execute_input": "2021-07-06T11:57:48.194946Z",
     "iopub.status.busy": "2021-07-06T11:57:48.194671Z",
     "iopub.status.idle": "2021-07-06T11:57:48.201768Z",
     "shell.execute_reply": "2021-07-06T11:57:48.200461Z",
     "shell.execute_reply.started": "2021-07-06T11:57:48.194920Z"
    }
   },
   "outputs": [],
   "source": [
    "# пропуски пробуем заменить на самое часто встречающееся значение - моду\n",
    "data['Price Range'] = data['Price Range'].fillna(data['Price Range'].mode()[0])"
   ]
  },
  {
   "cell_type": "code",
   "execution_count": 105,
   "metadata": {
    "execution": {
     "iopub.execute_input": "2021-07-06T11:57:48.204113Z",
     "iopub.status.busy": "2021-07-06T11:57:48.203602Z",
     "iopub.status.idle": "2021-07-06T11:57:48.217313Z",
     "shell.execute_reply": "2021-07-06T11:57:48.216236Z",
     "shell.execute_reply.started": "2021-07-06T11:57:48.204062Z"
    }
   },
   "outputs": [
    {
     "data": {
      "text/plain": [
       "2.0    40402\n",
       "1.0     7816\n",
       "3.0     1782\n",
       "Name: Price Range, dtype: int64"
      ]
     },
     "execution_count": 105,
     "metadata": {},
     "output_type": "execute_result"
    }
   ],
   "source": [
    "# Посчитаем количество ресторанов по ценовым категориям и проверим заполнение пропусков\n",
    "data['Price Range'].value_counts()"
   ]
  },
  {
   "cell_type": "code",
   "execution_count": 106,
   "metadata": {
    "execution": {
     "iopub.execute_input": "2021-07-06T11:57:48.219706Z",
     "iopub.status.busy": "2021-07-06T11:57:48.219141Z",
     "iopub.status.idle": "2021-07-06T11:57:48.244431Z",
     "shell.execute_reply": "2021-07-06T11:57:48.243134Z",
     "shell.execute_reply.started": "2021-07-06T11:57:48.219660Z"
    }
   },
   "outputs": [
    {
     "data": {
      "text/html": [
       "<div>\n",
       "<style scoped>\n",
       "    .dataframe tbody tr th:only-of-type {\n",
       "        vertical-align: middle;\n",
       "    }\n",
       "\n",
       "    .dataframe tbody tr th {\n",
       "        vertical-align: top;\n",
       "    }\n",
       "\n",
       "    .dataframe thead th {\n",
       "        text-align: right;\n",
       "    }\n",
       "</style>\n",
       "<table border=\"1\" class=\"dataframe\">\n",
       "  <thead>\n",
       "    <tr style=\"text-align: right;\">\n",
       "      <th></th>\n",
       "      <th>Restaurant_id</th>\n",
       "      <th>City</th>\n",
       "      <th>Cuisine Style</th>\n",
       "      <th>Ranking</th>\n",
       "      <th>Price Range</th>\n",
       "      <th>Number of Reviews</th>\n",
       "      <th>Reviews</th>\n",
       "      <th>URL_TA</th>\n",
       "      <th>ID_TA</th>\n",
       "      <th>sample</th>\n",
       "      <th>Rating</th>\n",
       "      <th>Number_of_Reviews_isNaN</th>\n",
       "      <th>Cuisine_Style_isNaN</th>\n",
       "      <th>Price_Range_isNaN</th>\n",
       "    </tr>\n",
       "  </thead>\n",
       "  <tbody>\n",
       "    <tr>\n",
       "      <th>0</th>\n",
       "      <td>id_0</td>\n",
       "      <td>Paris</td>\n",
       "      <td>['Bar', 'Pub']</td>\n",
       "      <td>12963.0</td>\n",
       "      <td>2.0</td>\n",
       "      <td>4.0</td>\n",
       "      <td>[[], []]</td>\n",
       "      <td>/Restaurant_Review-g187147-d10746918-Reviews-L...</td>\n",
       "      <td>d10746918</td>\n",
       "      <td>0</td>\n",
       "      <td>0.0</td>\n",
       "      <td>0</td>\n",
       "      <td>0</td>\n",
       "      <td>0</td>\n",
       "    </tr>\n",
       "    <tr>\n",
       "      <th>1</th>\n",
       "      <td>id_1</td>\n",
       "      <td>Helsinki</td>\n",
       "      <td>['European', 'Scandinavian', 'Gluten Free Opti...</td>\n",
       "      <td>106.0</td>\n",
       "      <td>2.0</td>\n",
       "      <td>97.0</td>\n",
       "      <td>[['Very good reviews!', 'Fine dining in Hakani...</td>\n",
       "      <td>/Restaurant_Review-g189934-d6674944-Reviews-Ra...</td>\n",
       "      <td>d6674944</td>\n",
       "      <td>0</td>\n",
       "      <td>0.0</td>\n",
       "      <td>0</td>\n",
       "      <td>0</td>\n",
       "      <td>0</td>\n",
       "    </tr>\n",
       "    <tr>\n",
       "      <th>2</th>\n",
       "      <td>id_2</td>\n",
       "      <td>Edinburgh</td>\n",
       "      <td>['Vegetarian Friendly']</td>\n",
       "      <td>810.0</td>\n",
       "      <td>2.0</td>\n",
       "      <td>28.0</td>\n",
       "      <td>[['Better than the Links', 'Ivy Black'], ['12/...</td>\n",
       "      <td>/Restaurant_Review-g186525-d13129638-Reviews-B...</td>\n",
       "      <td>d13129638</td>\n",
       "      <td>0</td>\n",
       "      <td>0.0</td>\n",
       "      <td>0</td>\n",
       "      <td>0</td>\n",
       "      <td>0</td>\n",
       "    </tr>\n",
       "    <tr>\n",
       "      <th>3</th>\n",
       "      <td>id_3</td>\n",
       "      <td>London</td>\n",
       "      <td>['Italian', 'Mediterranean', 'European', 'Vege...</td>\n",
       "      <td>1669.0</td>\n",
       "      <td>3.0</td>\n",
       "      <td>202.0</td>\n",
       "      <td>[['Most exquisite', 'Delicious and authentic']...</td>\n",
       "      <td>/Restaurant_Review-g186338-d680417-Reviews-Qui...</td>\n",
       "      <td>d680417</td>\n",
       "      <td>0</td>\n",
       "      <td>0.0</td>\n",
       "      <td>0</td>\n",
       "      <td>0</td>\n",
       "      <td>0</td>\n",
       "    </tr>\n",
       "    <tr>\n",
       "      <th>4</th>\n",
       "      <td>id_4</td>\n",
       "      <td>Bratislava</td>\n",
       "      <td>['Italian', 'Mediterranean', 'European', 'Seaf...</td>\n",
       "      <td>37.0</td>\n",
       "      <td>3.0</td>\n",
       "      <td>162.0</td>\n",
       "      <td>[['Always the best in bratislava', 'Very good ...</td>\n",
       "      <td>/Restaurant_Review-g274924-d1112354-Reviews-Ma...</td>\n",
       "      <td>d1112354</td>\n",
       "      <td>0</td>\n",
       "      <td>0.0</td>\n",
       "      <td>0</td>\n",
       "      <td>0</td>\n",
       "      <td>0</td>\n",
       "    </tr>\n",
       "  </tbody>\n",
       "</table>\n",
       "</div>"
      ],
      "text/plain": [
       "  Restaurant_id        City  \\\n",
       "0          id_0       Paris   \n",
       "1          id_1    Helsinki   \n",
       "2          id_2   Edinburgh   \n",
       "3          id_3      London   \n",
       "4          id_4  Bratislava   \n",
       "\n",
       "                                       Cuisine Style  Ranking  Price Range  \\\n",
       "0                                     ['Bar', 'Pub']  12963.0          2.0   \n",
       "1  ['European', 'Scandinavian', 'Gluten Free Opti...    106.0          2.0   \n",
       "2                            ['Vegetarian Friendly']    810.0          2.0   \n",
       "3  ['Italian', 'Mediterranean', 'European', 'Vege...   1669.0          3.0   \n",
       "4  ['Italian', 'Mediterranean', 'European', 'Seaf...     37.0          3.0   \n",
       "\n",
       "   Number of Reviews                                            Reviews  \\\n",
       "0                4.0                                           [[], []]   \n",
       "1               97.0  [['Very good reviews!', 'Fine dining in Hakani...   \n",
       "2               28.0  [['Better than the Links', 'Ivy Black'], ['12/...   \n",
       "3              202.0  [['Most exquisite', 'Delicious and authentic']...   \n",
       "4              162.0  [['Always the best in bratislava', 'Very good ...   \n",
       "\n",
       "                                              URL_TA      ID_TA  sample  \\\n",
       "0  /Restaurant_Review-g187147-d10746918-Reviews-L...  d10746918       0   \n",
       "1  /Restaurant_Review-g189934-d6674944-Reviews-Ra...   d6674944       0   \n",
       "2  /Restaurant_Review-g186525-d13129638-Reviews-B...  d13129638       0   \n",
       "3  /Restaurant_Review-g186338-d680417-Reviews-Qui...    d680417       0   \n",
       "4  /Restaurant_Review-g274924-d1112354-Reviews-Ma...   d1112354       0   \n",
       "\n",
       "   Rating  Number_of_Reviews_isNaN  Cuisine_Style_isNaN  Price_Range_isNaN  \n",
       "0     0.0                        0                    0                  0  \n",
       "1     0.0                        0                    0                  0  \n",
       "2     0.0                        0                    0                  0  \n",
       "3     0.0                        0                    0                  0  \n",
       "4     0.0                        0                    0                  0  "
      ]
     },
     "execution_count": 106,
     "metadata": {},
     "output_type": "execute_result"
    }
   ],
   "source": [
    "data.head()"
   ]
  },
  {
   "cell_type": "markdown",
   "metadata": {},
   "source": [
    "# Возьмем признак Cuisine Style"
   ]
  },
  {
   "cell_type": "markdown",
   "metadata": {},
   "source": [
    "Cuisine Style сложный признак, тип данных строка, а по факту это список. Заполним пропуски значением Other, позднее разберем на составляющие"
   ]
  },
  {
   "cell_type": "code",
   "execution_count": 107,
   "metadata": {
    "execution": {
     "iopub.execute_input": "2021-07-06T11:57:48.245897Z",
     "iopub.status.busy": "2021-07-06T11:57:48.245507Z",
     "iopub.status.idle": "2021-07-06T11:57:48.262298Z",
     "shell.execute_reply": "2021-07-06T11:57:48.261409Z",
     "shell.execute_reply.started": "2021-07-06T11:57:48.245868Z"
    }
   },
   "outputs": [],
   "source": [
    "data['Cuisine Style'] = data['Cuisine Style'].fillna(\"['Other']\")"
   ]
  },
  {
   "cell_type": "code",
   "execution_count": 108,
   "metadata": {
    "execution": {
     "iopub.execute_input": "2021-07-06T11:57:48.263672Z",
     "iopub.status.busy": "2021-07-06T11:57:48.263356Z",
     "iopub.status.idle": "2021-07-06T11:57:48.297662Z",
     "shell.execute_reply": "2021-07-06T11:57:48.296577Z",
     "shell.execute_reply.started": "2021-07-06T11:57:48.263644Z"
    }
   },
   "outputs": [
    {
     "data": {
      "text/plain": [
       "['Other']                                                                                             11590\n",
       "['Italian']                                                                                            1332\n",
       "['French']                                                                                             1019\n",
       "['Spanish']                                                                                             860\n",
       "['French', 'European']                                                                                  503\n",
       "                                                                                                      ...  \n",
       "['Swedish', 'Scandinavian', 'Fast Food', 'European', 'Vegetarian Friendly']                               1\n",
       "['Steakhouse', 'European', 'Wine Bar', 'International', 'Central European', 'Vegetarian Friendly']        1\n",
       "['Fast Food', 'Italian', 'Cafe', 'Vegetarian Friendly']                                                   1\n",
       "['Steakhouse', 'Seafood', 'International', 'Central European', 'European']                                1\n",
       "['Japanese', 'Thai', 'Sushi']                                                                             1\n",
       "Name: Cuisine Style, Length: 10732, dtype: int64"
      ]
     },
     "execution_count": 108,
     "metadata": {},
     "output_type": "execute_result"
    }
   ],
   "source": [
    "data['Cuisine Style'].value_counts()"
   ]
  },
  {
   "cell_type": "markdown",
   "metadata": {},
   "source": [
    "# Заполним пропуски в признаке 'Reviews'"
   ]
  },
  {
   "cell_type": "code",
   "execution_count": 109,
   "metadata": {
    "execution": {
     "iopub.execute_input": "2021-07-06T11:57:48.299235Z",
     "iopub.status.busy": "2021-07-06T11:57:48.298798Z",
     "iopub.status.idle": "2021-07-06T11:57:48.311668Z",
     "shell.execute_reply": "2021-07-06T11:57:48.310601Z",
     "shell.execute_reply.started": "2021-07-06T11:57:48.299204Z"
    }
   },
   "outputs": [],
   "source": [
    "#заполняем пропуски\n",
    "data['Reviews'] = data['Reviews'].fillna(\"['No_Comments']\")"
   ]
  },
  {
   "cell_type": "markdown",
   "metadata": {},
   "source": [
    "# 2. Обработка признаков"
   ]
  },
  {
   "cell_type": "markdown",
   "metadata": {},
   "source": [
    "Для начала посмотрим какие признаки у нас могут быть категориальными."
   ]
  },
  {
   "cell_type": "code",
   "execution_count": 110,
   "metadata": {
    "execution": {
     "iopub.execute_input": "2021-07-06T11:57:48.313164Z",
     "iopub.status.busy": "2021-07-06T11:57:48.312883Z",
     "iopub.status.idle": "2021-07-06T11:57:48.425282Z",
     "shell.execute_reply": "2021-07-06T11:57:48.424234Z",
     "shell.execute_reply.started": "2021-07-06T11:57:48.313137Z"
    }
   },
   "outputs": [
    {
     "data": {
      "text/plain": [
       "Restaurant_id              13094\n",
       "City                          31\n",
       "Cuisine Style              10732\n",
       "Ranking                    12975\n",
       "Price Range                    3\n",
       "Number of Reviews           1574\n",
       "Reviews                    41858\n",
       "URL_TA                     49963\n",
       "ID_TA                      49963\n",
       "sample                         2\n",
       "Rating                        10\n",
       "Number_of_Reviews_isNaN        2\n",
       "Cuisine_Style_isNaN            2\n",
       "Price_Range_isNaN              2\n",
       "dtype: int64"
      ]
     },
     "execution_count": 110,
     "metadata": {},
     "output_type": "execute_result"
    }
   ],
   "source": [
    "# Посмотрим (посчитаем) количество уникальных значений по каждому признаку\n",
    "data.nunique()"
   ]
  },
  {
   "cell_type": "markdown",
   "metadata": {},
   "source": [
    "Так как признак Restaurant_id имеет 13094 уникальных значения при наличии в датасете информации о 50000 ресторанах, следовательно он не несет полезной информации"
   ]
  },
  {
   "cell_type": "code",
   "execution_count": 111,
   "metadata": {
    "execution": {
     "iopub.execute_input": "2021-07-06T11:57:48.426840Z",
     "iopub.status.busy": "2021-07-06T11:57:48.426512Z",
     "iopub.status.idle": "2021-07-06T11:57:48.437229Z",
     "shell.execute_reply": "2021-07-06T11:57:48.436293Z",
     "shell.execute_reply.started": "2021-07-06T11:57:48.426813Z"
    }
   },
   "outputs": [],
   "source": [
    "# Удалим признак 'Restaurant_id' как не несущий никакой полезной информации\n",
    "data.drop(['Restaurant_id'], inplace=True, axis=1)"
   ]
  },
  {
   "cell_type": "markdown",
   "metadata": {},
   "source": [
    "Какие признаки можно считать категориальными?"
   ]
  },
  {
   "cell_type": "markdown",
   "metadata": {},
   "source": [
    "Для кодирования категориальных признаков есть множество подходов:\n",
    "\n",
    "* Label Encoding\n",
    "* One-Hot Encoding\n",
    "* Target Encoding\n",
    "* Hashing"
   ]
  },
  {
   "cell_type": "code",
   "execution_count": 112,
   "metadata": {
    "execution": {
     "iopub.execute_input": "2021-07-06T11:57:48.439185Z",
     "iopub.status.busy": "2021-07-06T11:57:48.438878Z",
     "iopub.status.idle": "2021-07-06T11:57:48.455628Z",
     "shell.execute_reply": "2021-07-06T11:57:48.454888Z",
     "shell.execute_reply.started": "2021-07-06T11:57:48.439156Z"
    }
   },
   "outputs": [
    {
     "data": {
      "text/html": [
       "<div>\n",
       "<style scoped>\n",
       "    .dataframe tbody tr th:only-of-type {\n",
       "        vertical-align: middle;\n",
       "    }\n",
       "\n",
       "    .dataframe tbody tr th {\n",
       "        vertical-align: top;\n",
       "    }\n",
       "\n",
       "    .dataframe thead th {\n",
       "        text-align: right;\n",
       "    }\n",
       "</style>\n",
       "<table border=\"1\" class=\"dataframe\">\n",
       "  <thead>\n",
       "    <tr style=\"text-align: right;\">\n",
       "      <th></th>\n",
       "      <th>CountryName</th>\n",
       "      <th>CapitalName</th>\n",
       "      <th>CapitalLatitude</th>\n",
       "      <th>CapitalLongitude</th>\n",
       "      <th>CountryCode</th>\n",
       "      <th>ContinentName</th>\n",
       "    </tr>\n",
       "  </thead>\n",
       "  <tbody>\n",
       "    <tr>\n",
       "      <th>0</th>\n",
       "      <td>Somaliland</td>\n",
       "      <td>Hargeisa</td>\n",
       "      <td>9.550000</td>\n",
       "      <td>44.050000</td>\n",
       "      <td>NaN</td>\n",
       "      <td>Africa</td>\n",
       "    </tr>\n",
       "    <tr>\n",
       "      <th>1</th>\n",
       "      <td>South Georgia and South Sandwich Islands</td>\n",
       "      <td>King Edward Point</td>\n",
       "      <td>-54.283333</td>\n",
       "      <td>-36.500000</td>\n",
       "      <td>GS</td>\n",
       "      <td>Antarctica</td>\n",
       "    </tr>\n",
       "    <tr>\n",
       "      <th>2</th>\n",
       "      <td>French Southern and Antarctic Lands</td>\n",
       "      <td>Port-aux-Français</td>\n",
       "      <td>-49.350000</td>\n",
       "      <td>70.216667</td>\n",
       "      <td>TF</td>\n",
       "      <td>Antarctica</td>\n",
       "    </tr>\n",
       "    <tr>\n",
       "      <th>3</th>\n",
       "      <td>Palestine</td>\n",
       "      <td>Jerusalem</td>\n",
       "      <td>31.766667</td>\n",
       "      <td>35.233333</td>\n",
       "      <td>PS</td>\n",
       "      <td>Asia</td>\n",
       "    </tr>\n",
       "    <tr>\n",
       "      <th>4</th>\n",
       "      <td>Aland Islands</td>\n",
       "      <td>Mariehamn</td>\n",
       "      <td>60.116667</td>\n",
       "      <td>19.900000</td>\n",
       "      <td>AX</td>\n",
       "      <td>Europe</td>\n",
       "    </tr>\n",
       "    <tr>\n",
       "      <th>5</th>\n",
       "      <td>Nauru</td>\n",
       "      <td>Yaren</td>\n",
       "      <td>-0.547700</td>\n",
       "      <td>166.920867</td>\n",
       "      <td>NR</td>\n",
       "      <td>Australia</td>\n",
       "    </tr>\n",
       "    <tr>\n",
       "      <th>6</th>\n",
       "      <td>Saint Martin</td>\n",
       "      <td>Marigot</td>\n",
       "      <td>18.073100</td>\n",
       "      <td>-63.082200</td>\n",
       "      <td>MF</td>\n",
       "      <td>North America</td>\n",
       "    </tr>\n",
       "    <tr>\n",
       "      <th>7</th>\n",
       "      <td>Tokelau</td>\n",
       "      <td>Atafu</td>\n",
       "      <td>-9.166667</td>\n",
       "      <td>-171.833333</td>\n",
       "      <td>TK</td>\n",
       "      <td>Australia</td>\n",
       "    </tr>\n",
       "    <tr>\n",
       "      <th>8</th>\n",
       "      <td>Western Sahara</td>\n",
       "      <td>El-Aaiún</td>\n",
       "      <td>27.153611</td>\n",
       "      <td>-13.203333</td>\n",
       "      <td>EH</td>\n",
       "      <td>Africa</td>\n",
       "    </tr>\n",
       "    <tr>\n",
       "      <th>9</th>\n",
       "      <td>Afghanistan</td>\n",
       "      <td>Kabul</td>\n",
       "      <td>34.516667</td>\n",
       "      <td>69.183333</td>\n",
       "      <td>AF</td>\n",
       "      <td>Asia</td>\n",
       "    </tr>\n",
       "  </tbody>\n",
       "</table>\n",
       "</div>"
      ],
      "text/plain": [
       "                                CountryName        CapitalName  \\\n",
       "0                                Somaliland           Hargeisa   \n",
       "1  South Georgia and South Sandwich Islands  King Edward Point   \n",
       "2       French Southern and Antarctic Lands  Port-aux-Français   \n",
       "3                                 Palestine          Jerusalem   \n",
       "4                             Aland Islands          Mariehamn   \n",
       "5                                     Nauru              Yaren   \n",
       "6                              Saint Martin            Marigot   \n",
       "7                                   Tokelau              Atafu   \n",
       "8                            Western Sahara           El-Aaiún   \n",
       "9                               Afghanistan              Kabul   \n",
       "\n",
       "   CapitalLatitude  CapitalLongitude CountryCode  ContinentName  \n",
       "0         9.550000         44.050000         NaN         Africa  \n",
       "1       -54.283333        -36.500000          GS     Antarctica  \n",
       "2       -49.350000         70.216667          TF     Antarctica  \n",
       "3        31.766667         35.233333          PS           Asia  \n",
       "4        60.116667         19.900000          AX         Europe  \n",
       "5        -0.547700        166.920867          NR      Australia  \n",
       "6        18.073100        -63.082200          MF  North America  \n",
       "7        -9.166667       -171.833333          TK      Australia  \n",
       "8        27.153611        -13.203333          EH         Africa  \n",
       "9        34.516667         69.183333          AF           Asia  "
      ]
     },
     "execution_count": 112,
     "metadata": {},
     "output_type": "execute_result"
    }
   ],
   "source": [
    "#Посмотрим найденный нами датасет о столицах мировых государств\n",
    "capital_df.head(10)"
   ]
  },
  {
   "cell_type": "code",
   "execution_count": 113,
   "metadata": {
    "execution": {
     "iopub.execute_input": "2021-07-06T11:57:48.457239Z",
     "iopub.status.busy": "2021-07-06T11:57:48.456809Z",
     "iopub.status.idle": "2021-07-06T11:57:48.467489Z",
     "shell.execute_reply": "2021-07-06T11:57:48.466330Z",
     "shell.execute_reply.started": "2021-07-06T11:57:48.457206Z"
    }
   },
   "outputs": [],
   "source": [
    "# Сформируем список столиц мировых государств\n",
    "capital_list = []\n",
    "for town in capital_df['CapitalName']:\n",
    "    capital_list.append(town)"
   ]
  },
  {
   "cell_type": "code",
   "execution_count": 114,
   "metadata": {
    "execution": {
     "iopub.execute_input": "2021-07-06T11:57:48.469066Z",
     "iopub.status.busy": "2021-07-06T11:57:48.468776Z",
     "iopub.status.idle": "2021-07-06T11:57:48.600055Z",
     "shell.execute_reply": "2021-07-06T11:57:48.599088Z",
     "shell.execute_reply.started": "2021-07-06T11:57:48.469039Z"
    }
   },
   "outputs": [],
   "source": [
    "#Создадим новый бинарный признак - является город столицей (1) или нет (0)\n",
    "data['is_capital'] = data.City.apply(lambda x: 1 if x in capital_list else 0)"
   ]
  },
  {
   "cell_type": "code",
   "execution_count": 115,
   "metadata": {
    "execution": {
     "iopub.execute_input": "2021-07-06T11:57:48.601762Z",
     "iopub.status.busy": "2021-07-06T11:57:48.601419Z",
     "iopub.status.idle": "2021-07-06T11:57:48.623288Z",
     "shell.execute_reply": "2021-07-06T11:57:48.622324Z",
     "shell.execute_reply.started": "2021-07-06T11:57:48.601730Z"
    }
   },
   "outputs": [
    {
     "data": {
      "text/html": [
       "<div>\n",
       "<style scoped>\n",
       "    .dataframe tbody tr th:only-of-type {\n",
       "        vertical-align: middle;\n",
       "    }\n",
       "\n",
       "    .dataframe tbody tr th {\n",
       "        vertical-align: top;\n",
       "    }\n",
       "\n",
       "    .dataframe thead th {\n",
       "        text-align: right;\n",
       "    }\n",
       "</style>\n",
       "<table border=\"1\" class=\"dataframe\">\n",
       "  <thead>\n",
       "    <tr style=\"text-align: right;\">\n",
       "      <th></th>\n",
       "      <th>City</th>\n",
       "      <th>Cuisine Style</th>\n",
       "      <th>Ranking</th>\n",
       "      <th>Price Range</th>\n",
       "      <th>Number of Reviews</th>\n",
       "      <th>Reviews</th>\n",
       "      <th>URL_TA</th>\n",
       "      <th>ID_TA</th>\n",
       "      <th>sample</th>\n",
       "      <th>Rating</th>\n",
       "      <th>Number_of_Reviews_isNaN</th>\n",
       "      <th>Cuisine_Style_isNaN</th>\n",
       "      <th>Price_Range_isNaN</th>\n",
       "      <th>is_capital</th>\n",
       "    </tr>\n",
       "  </thead>\n",
       "  <tbody>\n",
       "    <tr>\n",
       "      <th>0</th>\n",
       "      <td>Paris</td>\n",
       "      <td>['Bar', 'Pub']</td>\n",
       "      <td>12963.0</td>\n",
       "      <td>2.0</td>\n",
       "      <td>4.0</td>\n",
       "      <td>[[], []]</td>\n",
       "      <td>/Restaurant_Review-g187147-d10746918-Reviews-L...</td>\n",
       "      <td>d10746918</td>\n",
       "      <td>0</td>\n",
       "      <td>0.0</td>\n",
       "      <td>0</td>\n",
       "      <td>0</td>\n",
       "      <td>0</td>\n",
       "      <td>1</td>\n",
       "    </tr>\n",
       "    <tr>\n",
       "      <th>1</th>\n",
       "      <td>Helsinki</td>\n",
       "      <td>['European', 'Scandinavian', 'Gluten Free Opti...</td>\n",
       "      <td>106.0</td>\n",
       "      <td>2.0</td>\n",
       "      <td>97.0</td>\n",
       "      <td>[['Very good reviews!', 'Fine dining in Hakani...</td>\n",
       "      <td>/Restaurant_Review-g189934-d6674944-Reviews-Ra...</td>\n",
       "      <td>d6674944</td>\n",
       "      <td>0</td>\n",
       "      <td>0.0</td>\n",
       "      <td>0</td>\n",
       "      <td>0</td>\n",
       "      <td>0</td>\n",
       "      <td>1</td>\n",
       "    </tr>\n",
       "    <tr>\n",
       "      <th>2</th>\n",
       "      <td>Edinburgh</td>\n",
       "      <td>['Vegetarian Friendly']</td>\n",
       "      <td>810.0</td>\n",
       "      <td>2.0</td>\n",
       "      <td>28.0</td>\n",
       "      <td>[['Better than the Links', 'Ivy Black'], ['12/...</td>\n",
       "      <td>/Restaurant_Review-g186525-d13129638-Reviews-B...</td>\n",
       "      <td>d13129638</td>\n",
       "      <td>0</td>\n",
       "      <td>0.0</td>\n",
       "      <td>0</td>\n",
       "      <td>0</td>\n",
       "      <td>0</td>\n",
       "      <td>0</td>\n",
       "    </tr>\n",
       "    <tr>\n",
       "      <th>3</th>\n",
       "      <td>London</td>\n",
       "      <td>['Italian', 'Mediterranean', 'European', 'Vege...</td>\n",
       "      <td>1669.0</td>\n",
       "      <td>3.0</td>\n",
       "      <td>202.0</td>\n",
       "      <td>[['Most exquisite', 'Delicious and authentic']...</td>\n",
       "      <td>/Restaurant_Review-g186338-d680417-Reviews-Qui...</td>\n",
       "      <td>d680417</td>\n",
       "      <td>0</td>\n",
       "      <td>0.0</td>\n",
       "      <td>0</td>\n",
       "      <td>0</td>\n",
       "      <td>0</td>\n",
       "      <td>1</td>\n",
       "    </tr>\n",
       "    <tr>\n",
       "      <th>4</th>\n",
       "      <td>Bratislava</td>\n",
       "      <td>['Italian', 'Mediterranean', 'European', 'Seaf...</td>\n",
       "      <td>37.0</td>\n",
       "      <td>3.0</td>\n",
       "      <td>162.0</td>\n",
       "      <td>[['Always the best in bratislava', 'Very good ...</td>\n",
       "      <td>/Restaurant_Review-g274924-d1112354-Reviews-Ma...</td>\n",
       "      <td>d1112354</td>\n",
       "      <td>0</td>\n",
       "      <td>0.0</td>\n",
       "      <td>0</td>\n",
       "      <td>0</td>\n",
       "      <td>0</td>\n",
       "      <td>1</td>\n",
       "    </tr>\n",
       "  </tbody>\n",
       "</table>\n",
       "</div>"
      ],
      "text/plain": [
       "         City                                      Cuisine Style  Ranking  \\\n",
       "0       Paris                                     ['Bar', 'Pub']  12963.0   \n",
       "1    Helsinki  ['European', 'Scandinavian', 'Gluten Free Opti...    106.0   \n",
       "2   Edinburgh                            ['Vegetarian Friendly']    810.0   \n",
       "3      London  ['Italian', 'Mediterranean', 'European', 'Vege...   1669.0   \n",
       "4  Bratislava  ['Italian', 'Mediterranean', 'European', 'Seaf...     37.0   \n",
       "\n",
       "   Price Range  Number of Reviews  \\\n",
       "0          2.0                4.0   \n",
       "1          2.0               97.0   \n",
       "2          2.0               28.0   \n",
       "3          3.0              202.0   \n",
       "4          3.0              162.0   \n",
       "\n",
       "                                             Reviews  \\\n",
       "0                                           [[], []]   \n",
       "1  [['Very good reviews!', 'Fine dining in Hakani...   \n",
       "2  [['Better than the Links', 'Ivy Black'], ['12/...   \n",
       "3  [['Most exquisite', 'Delicious and authentic']...   \n",
       "4  [['Always the best in bratislava', 'Very good ...   \n",
       "\n",
       "                                              URL_TA      ID_TA  sample  \\\n",
       "0  /Restaurant_Review-g187147-d10746918-Reviews-L...  d10746918       0   \n",
       "1  /Restaurant_Review-g189934-d6674944-Reviews-Ra...   d6674944       0   \n",
       "2  /Restaurant_Review-g186525-d13129638-Reviews-B...  d13129638       0   \n",
       "3  /Restaurant_Review-g186338-d680417-Reviews-Qui...    d680417       0   \n",
       "4  /Restaurant_Review-g274924-d1112354-Reviews-Ma...   d1112354       0   \n",
       "\n",
       "   Rating  Number_of_Reviews_isNaN  Cuisine_Style_isNaN  Price_Range_isNaN  \\\n",
       "0     0.0                        0                    0                  0   \n",
       "1     0.0                        0                    0                  0   \n",
       "2     0.0                        0                    0                  0   \n",
       "3     0.0                        0                    0                  0   \n",
       "4     0.0                        0                    0                  0   \n",
       "\n",
       "   is_capital  \n",
       "0           1  \n",
       "1           1  \n",
       "2           0  \n",
       "3           1  \n",
       "4           1  "
      ]
     },
     "execution_count": 115,
     "metadata": {},
     "output_type": "execute_result"
    }
   ],
   "source": [
    "data.head()"
   ]
  },
  {
   "cell_type": "code",
   "execution_count": 116,
   "metadata": {
    "execution": {
     "iopub.execute_input": "2021-07-06T11:57:48.625322Z",
     "iopub.status.busy": "2021-07-06T11:57:48.624980Z",
     "iopub.status.idle": "2021-07-06T11:57:48.648738Z",
     "shell.execute_reply": "2021-07-06T11:57:48.647522Z",
     "shell.execute_reply.started": "2021-07-06T11:57:48.625289Z"
    }
   },
   "outputs": [
    {
     "data": {
      "text/plain": [
       "31"
      ]
     },
     "execution_count": 116,
     "metadata": {},
     "output_type": "execute_result"
    }
   ],
   "source": [
    "#GПосчитаем сколько уникальных значений принимает переменная City\n",
    "data.City.nunique()"
   ]
  },
  {
   "cell_type": "code",
   "execution_count": 117,
   "metadata": {
    "execution": {
     "iopub.execute_input": "2021-07-06T11:57:48.651506Z",
     "iopub.status.busy": "2021-07-06T11:57:48.650873Z",
     "iopub.status.idle": "2021-07-06T11:57:48.671531Z",
     "shell.execute_reply": "2021-07-06T11:57:48.670377Z",
     "shell.execute_reply.started": "2021-07-06T11:57:48.651460Z"
    }
   },
   "outputs": [
    {
     "name": "stdout",
     "output_type": "stream",
     "text": [
      "is_capital  City      \n",
      "0           Barcelona     3395\n",
      "            Milan         2694\n",
      "            Hamburg       1186\n",
      "            Munich        1145\n",
      "            Lyon          1126\n",
      "            Edinburgh      745\n",
      "            Zurich         685\n",
      "            Oporto         642\n",
      "            Geneva         590\n",
      "            Krakow         554\n",
      "1           London        7193\n",
      "            Paris         6108\n",
      "            Madrid        3813\n",
      "            Berlin        2705\n",
      "            Rome          2589\n",
      "            Prague        1816\n",
      "            Lisbon        1647\n",
      "            Vienna        1443\n",
      "            Amsterdam     1372\n",
      "            Brussels      1314\n",
      "            Stockholm     1033\n",
      "            Budapest      1021\n",
      "            Warsaw         925\n",
      "            Dublin         836\n",
      "            Copenhagen     819\n",
      "            Athens         776\n",
      "            Oslo           488\n",
      "            Helsinki       475\n",
      "            Bratislava     380\n",
      "            Luxembourg     263\n",
      "            Ljubljana      222\n",
      "Name: City, dtype: int64\n"
     ]
    }
   ],
   "source": [
    "#Посмотрим какие и сколько городов являются столицами, а сколько не являются\n",
    "town_list = data.groupby(['is_capital'])['City'].value_counts()\n",
    "print(town_list)"
   ]
  },
  {
   "cell_type": "markdown",
   "metadata": {},
   "source": [
    "Видим, что датасет содержит 10\n",
    "городов, неявляющихся столицами своих государств"
   ]
  },
  {
   "cell_type": "markdown",
   "metadata": {},
   "source": [
    "# добавим новый признак - Country"
   ]
  },
  {
   "cell_type": "code",
   "execution_count": 118,
   "metadata": {
    "execution": {
     "iopub.execute_input": "2021-07-06T11:57:48.673251Z",
     "iopub.status.busy": "2021-07-06T11:57:48.672875Z",
     "iopub.status.idle": "2021-07-06T11:57:48.691324Z",
     "shell.execute_reply": "2021-07-06T11:57:48.690559Z",
     "shell.execute_reply.started": "2021-07-06T11:57:48.673214Z"
    }
   },
   "outputs": [
    {
     "data": {
      "text/html": [
       "<div>\n",
       "<style scoped>\n",
       "    .dataframe tbody tr th:only-of-type {\n",
       "        vertical-align: middle;\n",
       "    }\n",
       "\n",
       "    .dataframe tbody tr th {\n",
       "        vertical-align: top;\n",
       "    }\n",
       "\n",
       "    .dataframe thead th {\n",
       "        text-align: right;\n",
       "    }\n",
       "</style>\n",
       "<table border=\"1\" class=\"dataframe\">\n",
       "  <thead>\n",
       "    <tr style=\"text-align: right;\">\n",
       "      <th></th>\n",
       "      <th>CountryName</th>\n",
       "      <th>CapitalName</th>\n",
       "      <th>CountryCode</th>\n",
       "    </tr>\n",
       "  </thead>\n",
       "  <tbody>\n",
       "    <tr>\n",
       "      <th>0</th>\n",
       "      <td>Somaliland</td>\n",
       "      <td>Hargeisa</td>\n",
       "      <td>NaN</td>\n",
       "    </tr>\n",
       "    <tr>\n",
       "      <th>1</th>\n",
       "      <td>South Georgia and South Sandwich Islands</td>\n",
       "      <td>King Edward Point</td>\n",
       "      <td>GS</td>\n",
       "    </tr>\n",
       "    <tr>\n",
       "      <th>2</th>\n",
       "      <td>French Southern and Antarctic Lands</td>\n",
       "      <td>Port-aux-Français</td>\n",
       "      <td>TF</td>\n",
       "    </tr>\n",
       "    <tr>\n",
       "      <th>3</th>\n",
       "      <td>Palestine</td>\n",
       "      <td>Jerusalem</td>\n",
       "      <td>PS</td>\n",
       "    </tr>\n",
       "    <tr>\n",
       "      <th>4</th>\n",
       "      <td>Aland Islands</td>\n",
       "      <td>Mariehamn</td>\n",
       "      <td>AX</td>\n",
       "    </tr>\n",
       "    <tr>\n",
       "      <th>...</th>\n",
       "      <td>...</td>\n",
       "      <td>...</td>\n",
       "      <td>...</td>\n",
       "    </tr>\n",
       "    <tr>\n",
       "      <th>240</th>\n",
       "      <td>Northern Cyprus</td>\n",
       "      <td>North Nicosia</td>\n",
       "      <td>NaN</td>\n",
       "    </tr>\n",
       "    <tr>\n",
       "      <th>241</th>\n",
       "      <td>Hong Kong</td>\n",
       "      <td>NaN</td>\n",
       "      <td>HK</td>\n",
       "    </tr>\n",
       "    <tr>\n",
       "      <th>242</th>\n",
       "      <td>Heard Island and McDonald Islands</td>\n",
       "      <td>NaN</td>\n",
       "      <td>HM</td>\n",
       "    </tr>\n",
       "    <tr>\n",
       "      <th>243</th>\n",
       "      <td>British Indian Ocean Territory</td>\n",
       "      <td>Diego Garcia</td>\n",
       "      <td>IO</td>\n",
       "    </tr>\n",
       "    <tr>\n",
       "      <th>244</th>\n",
       "      <td>Macau</td>\n",
       "      <td>NaN</td>\n",
       "      <td>MO</td>\n",
       "    </tr>\n",
       "  </tbody>\n",
       "</table>\n",
       "<p>245 rows × 3 columns</p>\n",
       "</div>"
      ],
      "text/plain": [
       "                                  CountryName        CapitalName CountryCode\n",
       "0                                  Somaliland           Hargeisa         NaN\n",
       "1    South Georgia and South Sandwich Islands  King Edward Point          GS\n",
       "2         French Southern and Antarctic Lands  Port-aux-Français          TF\n",
       "3                                   Palestine          Jerusalem          PS\n",
       "4                               Aland Islands          Mariehamn          AX\n",
       "..                                        ...                ...         ...\n",
       "240                           Northern Cyprus      North Nicosia         NaN\n",
       "241                                 Hong Kong                NaN          HK\n",
       "242         Heard Island and McDonald Islands                NaN          HM\n",
       "243            British Indian Ocean Territory       Diego Garcia          IO\n",
       "244                                     Macau                NaN          MO\n",
       "\n",
       "[245 rows x 3 columns]"
      ]
     },
     "execution_count": 118,
     "metadata": {},
     "output_type": "execute_result"
    }
   ],
   "source": [
    "#Сформируем новый датафрейм \n",
    "countrycode_df = capital_df[['CountryName', 'CapitalName', 'CountryCode']]\n",
    "countrycode_df"
   ]
  },
  {
   "cell_type": "code",
   "execution_count": 119,
   "metadata": {
    "execution": {
     "iopub.execute_input": "2021-07-06T11:57:48.693731Z",
     "iopub.status.busy": "2021-07-06T11:57:48.692342Z",
     "iopub.status.idle": "2021-07-06T11:57:48.704211Z",
     "shell.execute_reply": "2021-07-06T11:57:48.702699Z",
     "shell.execute_reply.started": "2021-07-06T11:57:48.693680Z"
    }
   },
   "outputs": [],
   "source": [
    "# Из сформированного Датафрейма образуем словарь, где ключами являются Название столицы, а значениями - список ,\n",
    "#состоящий из наименования государства и кода государства\n",
    "countrycode_dict = dict([(i, [a, b]) for i,a,b in zip(\n",
    "    countrycode_df.CapitalName, countrycode_df.CountryName, countrycode_df.CountryCode)])"
   ]
  },
  {
   "cell_type": "code",
   "execution_count": 120,
   "metadata": {
    "execution": {
     "iopub.execute_input": "2021-07-06T11:57:48.705888Z",
     "iopub.status.busy": "2021-07-06T11:57:48.705588Z",
     "iopub.status.idle": "2021-07-06T11:57:48.716813Z",
     "shell.execute_reply": "2021-07-06T11:57:48.715733Z",
     "shell.execute_reply.started": "2021-07-06T11:57:48.705860Z"
    }
   },
   "outputs": [],
   "source": [
    "#Вручную добавим во вновь сформированный словарь в качестве ключей - наименования городов -не столиц\n",
    "#и соответствующие им наименования государств и их коды\n",
    "countrycode_dict.update(Barcelona=['Spain', 'ES'],\n",
    "                       Milan=['Italy', 'IT'],\n",
    "                       Hamburg=['Germany', 'DE'],\n",
    "                       Munich=['Germany', 'DE'],\n",
    "                       Lyon=['France', 'FR'],\n",
    "                       Edinburgh=['United Kingdom', 'GB'],\n",
    "                       Zurich=['Switzerland', 'CH'],\n",
    "                       Oporto=['Portugal', 'PT'],\n",
    "                       Geneva=['Switzerland', 'CH'],\n",
    "                       Krakow=['Poland', 'PL'])"
   ]
  },
  {
   "cell_type": "code",
   "execution_count": 121,
   "metadata": {
    "execution": {
     "iopub.execute_input": "2021-07-06T11:57:48.718774Z",
     "iopub.status.busy": "2021-07-06T11:57:48.718382Z",
     "iopub.status.idle": "2021-07-06T11:57:48.772088Z",
     "shell.execute_reply": "2021-07-06T11:57:48.771054Z",
     "shell.execute_reply.started": "2021-07-06T11:57:48.718743Z"
    }
   },
   "outputs": [
    {
     "data": {
      "text/html": [
       "<div>\n",
       "<style scoped>\n",
       "    .dataframe tbody tr th:only-of-type {\n",
       "        vertical-align: middle;\n",
       "    }\n",
       "\n",
       "    .dataframe tbody tr th {\n",
       "        vertical-align: top;\n",
       "    }\n",
       "\n",
       "    .dataframe thead th {\n",
       "        text-align: right;\n",
       "    }\n",
       "</style>\n",
       "<table border=\"1\" class=\"dataframe\">\n",
       "  <thead>\n",
       "    <tr style=\"text-align: right;\">\n",
       "      <th></th>\n",
       "      <th>City</th>\n",
       "      <th>Cuisine Style</th>\n",
       "      <th>Ranking</th>\n",
       "      <th>Price Range</th>\n",
       "      <th>Number of Reviews</th>\n",
       "      <th>Reviews</th>\n",
       "      <th>URL_TA</th>\n",
       "      <th>ID_TA</th>\n",
       "      <th>sample</th>\n",
       "      <th>Rating</th>\n",
       "      <th>Number_of_Reviews_isNaN</th>\n",
       "      <th>Cuisine_Style_isNaN</th>\n",
       "      <th>Price_Range_isNaN</th>\n",
       "      <th>is_capital</th>\n",
       "      <th>State</th>\n",
       "    </tr>\n",
       "  </thead>\n",
       "  <tbody>\n",
       "    <tr>\n",
       "      <th>0</th>\n",
       "      <td>Paris</td>\n",
       "      <td>['Bar', 'Pub']</td>\n",
       "      <td>12963.0</td>\n",
       "      <td>2.0</td>\n",
       "      <td>4.0</td>\n",
       "      <td>[[], []]</td>\n",
       "      <td>/Restaurant_Review-g187147-d10746918-Reviews-L...</td>\n",
       "      <td>d10746918</td>\n",
       "      <td>0</td>\n",
       "      <td>0.0</td>\n",
       "      <td>0</td>\n",
       "      <td>0</td>\n",
       "      <td>0</td>\n",
       "      <td>1</td>\n",
       "      <td>FR</td>\n",
       "    </tr>\n",
       "    <tr>\n",
       "      <th>1</th>\n",
       "      <td>Helsinki</td>\n",
       "      <td>['European', 'Scandinavian', 'Gluten Free Opti...</td>\n",
       "      <td>106.0</td>\n",
       "      <td>2.0</td>\n",
       "      <td>97.0</td>\n",
       "      <td>[['Very good reviews!', 'Fine dining in Hakani...</td>\n",
       "      <td>/Restaurant_Review-g189934-d6674944-Reviews-Ra...</td>\n",
       "      <td>d6674944</td>\n",
       "      <td>0</td>\n",
       "      <td>0.0</td>\n",
       "      <td>0</td>\n",
       "      <td>0</td>\n",
       "      <td>0</td>\n",
       "      <td>1</td>\n",
       "      <td>FI</td>\n",
       "    </tr>\n",
       "    <tr>\n",
       "      <th>2</th>\n",
       "      <td>Edinburgh</td>\n",
       "      <td>['Vegetarian Friendly']</td>\n",
       "      <td>810.0</td>\n",
       "      <td>2.0</td>\n",
       "      <td>28.0</td>\n",
       "      <td>[['Better than the Links', 'Ivy Black'], ['12/...</td>\n",
       "      <td>/Restaurant_Review-g186525-d13129638-Reviews-B...</td>\n",
       "      <td>d13129638</td>\n",
       "      <td>0</td>\n",
       "      <td>0.0</td>\n",
       "      <td>0</td>\n",
       "      <td>0</td>\n",
       "      <td>0</td>\n",
       "      <td>0</td>\n",
       "      <td>GB</td>\n",
       "    </tr>\n",
       "    <tr>\n",
       "      <th>3</th>\n",
       "      <td>London</td>\n",
       "      <td>['Italian', 'Mediterranean', 'European', 'Vege...</td>\n",
       "      <td>1669.0</td>\n",
       "      <td>3.0</td>\n",
       "      <td>202.0</td>\n",
       "      <td>[['Most exquisite', 'Delicious and authentic']...</td>\n",
       "      <td>/Restaurant_Review-g186338-d680417-Reviews-Qui...</td>\n",
       "      <td>d680417</td>\n",
       "      <td>0</td>\n",
       "      <td>0.0</td>\n",
       "      <td>0</td>\n",
       "      <td>0</td>\n",
       "      <td>0</td>\n",
       "      <td>1</td>\n",
       "      <td>GB</td>\n",
       "    </tr>\n",
       "    <tr>\n",
       "      <th>4</th>\n",
       "      <td>Bratislava</td>\n",
       "      <td>['Italian', 'Mediterranean', 'European', 'Seaf...</td>\n",
       "      <td>37.0</td>\n",
       "      <td>3.0</td>\n",
       "      <td>162.0</td>\n",
       "      <td>[['Always the best in bratislava', 'Very good ...</td>\n",
       "      <td>/Restaurant_Review-g274924-d1112354-Reviews-Ma...</td>\n",
       "      <td>d1112354</td>\n",
       "      <td>0</td>\n",
       "      <td>0.0</td>\n",
       "      <td>0</td>\n",
       "      <td>0</td>\n",
       "      <td>0</td>\n",
       "      <td>1</td>\n",
       "      <td>SK</td>\n",
       "    </tr>\n",
       "  </tbody>\n",
       "</table>\n",
       "</div>"
      ],
      "text/plain": [
       "         City                                      Cuisine Style  Ranking  \\\n",
       "0       Paris                                     ['Bar', 'Pub']  12963.0   \n",
       "1    Helsinki  ['European', 'Scandinavian', 'Gluten Free Opti...    106.0   \n",
       "2   Edinburgh                            ['Vegetarian Friendly']    810.0   \n",
       "3      London  ['Italian', 'Mediterranean', 'European', 'Vege...   1669.0   \n",
       "4  Bratislava  ['Italian', 'Mediterranean', 'European', 'Seaf...     37.0   \n",
       "\n",
       "   Price Range  Number of Reviews  \\\n",
       "0          2.0                4.0   \n",
       "1          2.0               97.0   \n",
       "2          2.0               28.0   \n",
       "3          3.0              202.0   \n",
       "4          3.0              162.0   \n",
       "\n",
       "                                             Reviews  \\\n",
       "0                                           [[], []]   \n",
       "1  [['Very good reviews!', 'Fine dining in Hakani...   \n",
       "2  [['Better than the Links', 'Ivy Black'], ['12/...   \n",
       "3  [['Most exquisite', 'Delicious and authentic']...   \n",
       "4  [['Always the best in bratislava', 'Very good ...   \n",
       "\n",
       "                                              URL_TA      ID_TA  sample  \\\n",
       "0  /Restaurant_Review-g187147-d10746918-Reviews-L...  d10746918       0   \n",
       "1  /Restaurant_Review-g189934-d6674944-Reviews-Ra...   d6674944       0   \n",
       "2  /Restaurant_Review-g186525-d13129638-Reviews-B...  d13129638       0   \n",
       "3  /Restaurant_Review-g186338-d680417-Reviews-Qui...    d680417       0   \n",
       "4  /Restaurant_Review-g274924-d1112354-Reviews-Ma...   d1112354       0   \n",
       "\n",
       "   Rating  Number_of_Reviews_isNaN  Cuisine_Style_isNaN  Price_Range_isNaN  \\\n",
       "0     0.0                        0                    0                  0   \n",
       "1     0.0                        0                    0                  0   \n",
       "2     0.0                        0                    0                  0   \n",
       "3     0.0                        0                    0                  0   \n",
       "4     0.0                        0                    0                  0   \n",
       "\n",
       "   is_capital State  \n",
       "0           1    FR  \n",
       "1           1    FI  \n",
       "2           0    GB  \n",
       "3           1    GB  \n",
       "4           1    SK  "
      ]
     },
     "execution_count": 121,
     "metadata": {},
     "output_type": "execute_result"
    }
   ],
   "source": [
    "data['State'] = data['City'].apply(lambda x: countrycode_dict[x][1])\n",
    "data.head()"
   ]
  },
  {
   "cell_type": "code",
   "execution_count": 122,
   "metadata": {
    "execution": {
     "iopub.execute_input": "2021-07-06T11:57:48.774148Z",
     "iopub.status.busy": "2021-07-06T11:57:48.773798Z",
     "iopub.status.idle": "2021-07-06T11:57:48.793888Z",
     "shell.execute_reply": "2021-07-06T11:57:48.793040Z",
     "shell.execute_reply.started": "2021-07-06T11:57:48.774112Z"
    }
   },
   "outputs": [
    {
     "name": "stdout",
     "output_type": "stream",
     "text": [
      "['FR' 'FI' 'GB' 'SK' 'PT' 'HU' 'SE' 'IT' 'DE' 'CZ' 'AT' 'IE' 'ES' 'BE'\n",
      " 'NO' 'NL' 'GR' 'PL' 'DK' 'LU' 'CH' 'SI'] \n",
      " 22\n"
     ]
    }
   ],
   "source": [
    "print(data['State'].unique(), '\\n', data['State'].nunique())"
   ]
  },
  {
   "cell_type": "markdown",
   "metadata": {},
   "source": [
    "добавим 31 новый признак, которые соответствуют городам датасета"
   ]
  },
  {
   "cell_type": "code",
   "execution_count": 123,
   "metadata": {
    "execution": {
     "iopub.execute_input": "2021-07-06T11:57:48.795543Z",
     "iopub.status.busy": "2021-07-06T11:57:48.795043Z",
     "iopub.status.idle": "2021-07-06T11:57:48.835898Z",
     "shell.execute_reply": "2021-07-06T11:57:48.835025Z",
     "shell.execute_reply.started": "2021-07-06T11:57:48.795503Z"
    }
   },
   "outputs": [],
   "source": [
    "# для One-Hot Encoding в pandas есть готовая функция - get_dummies. Особенно радует параметр dummy_na\n",
    "data = pd.get_dummies(data, columns=[ 'City',])"
   ]
  },
  {
   "cell_type": "markdown",
   "metadata": {},
   "source": [
    "добавим 22 новых признака, соответствующие государствам датасета"
   ]
  },
  {
   "cell_type": "code",
   "execution_count": 124,
   "metadata": {
    "execution": {
     "iopub.execute_input": "2021-07-06T11:57:48.837538Z",
     "iopub.status.busy": "2021-07-06T11:57:48.837047Z",
     "iopub.status.idle": "2021-07-06T11:57:48.877901Z",
     "shell.execute_reply": "2021-07-06T11:57:48.876779Z",
     "shell.execute_reply.started": "2021-07-06T11:57:48.837492Z"
    }
   },
   "outputs": [],
   "source": [
    "data = pd.get_dummies(data, columns=[ 'State',])"
   ]
  },
  {
   "cell_type": "code",
   "execution_count": 125,
   "metadata": {
    "execution": {
     "iopub.execute_input": "2021-07-06T11:57:48.879468Z",
     "iopub.status.busy": "2021-07-06T11:57:48.879146Z",
     "iopub.status.idle": "2021-07-06T11:57:48.883893Z",
     "shell.execute_reply": "2021-07-06T11:57:48.882851Z",
     "shell.execute_reply.started": "2021-07-06T11:57:48.879427Z"
    }
   },
   "outputs": [],
   "source": [
    "#Создадим 3 новых признака для каждой ценовой категории ресторана\n",
    "#data = pd.get_dummies(data, columns=[ 'Price Range',])\n",
    "# Данный способ ухудшает MAE по сравнению с LabelEncoder"
   ]
  },
  {
   "cell_type": "code",
   "execution_count": 126,
   "metadata": {
    "execution": {
     "iopub.execute_input": "2021-07-06T11:57:48.885435Z",
     "iopub.status.busy": "2021-07-06T11:57:48.885135Z",
     "iopub.status.idle": "2021-07-06T11:57:48.895208Z",
     "shell.execute_reply": "2021-07-06T11:57:48.894065Z",
     "shell.execute_reply.started": "2021-07-06T11:57:48.885406Z"
    }
   },
   "outputs": [],
   "source": [
    "from sklearn.preprocessing import LabelEncoder"
   ]
  },
  {
   "cell_type": "code",
   "execution_count": 127,
   "metadata": {
    "execution": {
     "iopub.execute_input": "2021-07-06T11:57:48.896980Z",
     "iopub.status.busy": "2021-07-06T11:57:48.896497Z",
     "iopub.status.idle": "2021-07-06T11:57:48.912529Z",
     "shell.execute_reply": "2021-07-06T11:57:48.911383Z",
     "shell.execute_reply.started": "2021-07-06T11:57:48.896937Z"
    }
   },
   "outputs": [],
   "source": [
    "# creating instance of labelencoder\n",
    "labelencoder = LabelEncoder()\n",
    "# Assigning numerical values and storing in another column\n",
    "data['Price Range_Cat'] = labelencoder.fit_transform(data['Price Range'])"
   ]
  },
  {
   "cell_type": "markdown",
   "metadata": {},
   "source": [
    "Добавим новый признак - количество видов кухонь в одном ресторане "
   ]
  },
  {
   "cell_type": "code",
   "execution_count": 128,
   "metadata": {
    "execution": {
     "iopub.execute_input": "2021-07-06T11:57:48.914624Z",
     "iopub.status.busy": "2021-07-06T11:57:48.914079Z",
     "iopub.status.idle": "2021-07-06T11:57:48.963548Z",
     "shell.execute_reply": "2021-07-06T11:57:48.962550Z",
     "shell.execute_reply.started": "2021-07-06T11:57:48.914571Z"
    }
   },
   "outputs": [],
   "source": [
    "data['Number_of_cuisines'] = data['Cuisine Style'].apply(lambda x: len(x.split(',')))"
   ]
  },
  {
   "cell_type": "code",
   "execution_count": 129,
   "metadata": {
    "execution": {
     "iopub.execute_input": "2021-07-06T11:57:48.965080Z",
     "iopub.status.busy": "2021-07-06T11:57:48.964804Z",
     "iopub.status.idle": "2021-07-06T11:57:49.015110Z",
     "shell.execute_reply": "2021-07-06T11:57:49.013771Z",
     "shell.execute_reply.started": "2021-07-06T11:57:48.965053Z"
    }
   },
   "outputs": [
    {
     "name": "stdout",
     "output_type": "stream",
     "text": [
      "<class 'pandas.core.frame.DataFrame'>\n",
      "RangeIndex: 50000 entries, 0 to 49999\n",
      "Data columns (total 68 columns):\n",
      " #   Column                   Non-Null Count  Dtype  \n",
      "---  ------                   --------------  -----  \n",
      " 0   Cuisine Style            50000 non-null  object \n",
      " 1   Ranking                  50000 non-null  float64\n",
      " 2   Price Range              50000 non-null  float64\n",
      " 3   Number of Reviews        50000 non-null  float64\n",
      " 4   Reviews                  50000 non-null  object \n",
      " 5   URL_TA                   50000 non-null  object \n",
      " 6   ID_TA                    50000 non-null  object \n",
      " 7   sample                   50000 non-null  int64  \n",
      " 8   Rating                   50000 non-null  float64\n",
      " 9   Number_of_Reviews_isNaN  50000 non-null  uint8  \n",
      " 10  Cuisine_Style_isNaN      50000 non-null  uint8  \n",
      " 11  Price_Range_isNaN        50000 non-null  uint8  \n",
      " 12  is_capital               50000 non-null  int64  \n",
      " 13  City_Amsterdam           50000 non-null  uint8  \n",
      " 14  City_Athens              50000 non-null  uint8  \n",
      " 15  City_Barcelona           50000 non-null  uint8  \n",
      " 16  City_Berlin              50000 non-null  uint8  \n",
      " 17  City_Bratislava          50000 non-null  uint8  \n",
      " 18  City_Brussels            50000 non-null  uint8  \n",
      " 19  City_Budapest            50000 non-null  uint8  \n",
      " 20  City_Copenhagen          50000 non-null  uint8  \n",
      " 21  City_Dublin              50000 non-null  uint8  \n",
      " 22  City_Edinburgh           50000 non-null  uint8  \n",
      " 23  City_Geneva              50000 non-null  uint8  \n",
      " 24  City_Hamburg             50000 non-null  uint8  \n",
      " 25  City_Helsinki            50000 non-null  uint8  \n",
      " 26  City_Krakow              50000 non-null  uint8  \n",
      " 27  City_Lisbon              50000 non-null  uint8  \n",
      " 28  City_Ljubljana           50000 non-null  uint8  \n",
      " 29  City_London              50000 non-null  uint8  \n",
      " 30  City_Luxembourg          50000 non-null  uint8  \n",
      " 31  City_Lyon                50000 non-null  uint8  \n",
      " 32  City_Madrid              50000 non-null  uint8  \n",
      " 33  City_Milan               50000 non-null  uint8  \n",
      " 34  City_Munich              50000 non-null  uint8  \n",
      " 35  City_Oporto              50000 non-null  uint8  \n",
      " 36  City_Oslo                50000 non-null  uint8  \n",
      " 37  City_Paris               50000 non-null  uint8  \n",
      " 38  City_Prague              50000 non-null  uint8  \n",
      " 39  City_Rome                50000 non-null  uint8  \n",
      " 40  City_Stockholm           50000 non-null  uint8  \n",
      " 41  City_Vienna              50000 non-null  uint8  \n",
      " 42  City_Warsaw              50000 non-null  uint8  \n",
      " 43  City_Zurich              50000 non-null  uint8  \n",
      " 44  State_AT                 50000 non-null  uint8  \n",
      " 45  State_BE                 50000 non-null  uint8  \n",
      " 46  State_CH                 50000 non-null  uint8  \n",
      " 47  State_CZ                 50000 non-null  uint8  \n",
      " 48  State_DE                 50000 non-null  uint8  \n",
      " 49  State_DK                 50000 non-null  uint8  \n",
      " 50  State_ES                 50000 non-null  uint8  \n",
      " 51  State_FI                 50000 non-null  uint8  \n",
      " 52  State_FR                 50000 non-null  uint8  \n",
      " 53  State_GB                 50000 non-null  uint8  \n",
      " 54  State_GR                 50000 non-null  uint8  \n",
      " 55  State_HU                 50000 non-null  uint8  \n",
      " 56  State_IE                 50000 non-null  uint8  \n",
      " 57  State_IT                 50000 non-null  uint8  \n",
      " 58  State_LU                 50000 non-null  uint8  \n",
      " 59  State_NL                 50000 non-null  uint8  \n",
      " 60  State_NO                 50000 non-null  uint8  \n",
      " 61  State_PL                 50000 non-null  uint8  \n",
      " 62  State_PT                 50000 non-null  uint8  \n",
      " 63  State_SE                 50000 non-null  uint8  \n",
      " 64  State_SI                 50000 non-null  uint8  \n",
      " 65  State_SK                 50000 non-null  uint8  \n",
      " 66  Price Range_Cat          50000 non-null  int64  \n",
      " 67  Number_of_cuisines       50000 non-null  int64  \n",
      "dtypes: float64(4), int64(4), object(4), uint8(56)\n",
      "memory usage: 7.2+ MB\n"
     ]
    }
   ],
   "source": [
    "#проверим, что получилось\n",
    "data.info()"
   ]
  },
  {
   "cell_type": "code",
   "execution_count": 130,
   "metadata": {
    "execution": {
     "iopub.execute_input": "2021-07-06T11:57:49.018007Z",
     "iopub.status.busy": "2021-07-06T11:57:49.017573Z",
     "iopub.status.idle": "2021-07-06T11:57:49.066131Z",
     "shell.execute_reply": "2021-07-06T11:57:49.065032Z",
     "shell.execute_reply.started": "2021-07-06T11:57:49.017961Z"
    }
   },
   "outputs": [
    {
     "data": {
      "text/html": [
       "<div>\n",
       "<style scoped>\n",
       "    .dataframe tbody tr th:only-of-type {\n",
       "        vertical-align: middle;\n",
       "    }\n",
       "\n",
       "    .dataframe tbody tr th {\n",
       "        vertical-align: top;\n",
       "    }\n",
       "\n",
       "    .dataframe thead th {\n",
       "        text-align: right;\n",
       "    }\n",
       "</style>\n",
       "<table border=\"1\" class=\"dataframe\">\n",
       "  <thead>\n",
       "    <tr style=\"text-align: right;\">\n",
       "      <th></th>\n",
       "      <th>Cuisine Style</th>\n",
       "      <th>Ranking</th>\n",
       "      <th>Price Range</th>\n",
       "      <th>Number of Reviews</th>\n",
       "      <th>Reviews</th>\n",
       "      <th>URL_TA</th>\n",
       "      <th>ID_TA</th>\n",
       "      <th>sample</th>\n",
       "      <th>Rating</th>\n",
       "      <th>Number_of_Reviews_isNaN</th>\n",
       "      <th>...</th>\n",
       "      <th>State_LU</th>\n",
       "      <th>State_NL</th>\n",
       "      <th>State_NO</th>\n",
       "      <th>State_PL</th>\n",
       "      <th>State_PT</th>\n",
       "      <th>State_SE</th>\n",
       "      <th>State_SI</th>\n",
       "      <th>State_SK</th>\n",
       "      <th>Price Range_Cat</th>\n",
       "      <th>Number_of_cuisines</th>\n",
       "    </tr>\n",
       "  </thead>\n",
       "  <tbody>\n",
       "    <tr>\n",
       "      <th>47832</th>\n",
       "      <td>['Japanese']</td>\n",
       "      <td>7034.0</td>\n",
       "      <td>2.0</td>\n",
       "      <td>26.0</td>\n",
       "      <td>[['Perfect', 'Small and quaint locals resturan...</td>\n",
       "      <td>/Restaurant_Review-g187147-d793121-Reviews-Le_...</td>\n",
       "      <td>d793121</td>\n",
       "      <td>1</td>\n",
       "      <td>4.0</td>\n",
       "      <td>0</td>\n",
       "      <td>...</td>\n",
       "      <td>0</td>\n",
       "      <td>0</td>\n",
       "      <td>0</td>\n",
       "      <td>0</td>\n",
       "      <td>0</td>\n",
       "      <td>0</td>\n",
       "      <td>0</td>\n",
       "      <td>0</td>\n",
       "      <td>1</td>\n",
       "      <td>1</td>\n",
       "    </tr>\n",
       "    <tr>\n",
       "      <th>29421</th>\n",
       "      <td>['Italian']</td>\n",
       "      <td>15447.0</td>\n",
       "      <td>2.0</td>\n",
       "      <td>56.0</td>\n",
       "      <td>[['Has so much potential but falls short.', 'T...</td>\n",
       "      <td>/Restaurant_Review-g186338-d7223185-Reviews-Lo...</td>\n",
       "      <td>d7223185</td>\n",
       "      <td>1</td>\n",
       "      <td>3.0</td>\n",
       "      <td>0</td>\n",
       "      <td>...</td>\n",
       "      <td>0</td>\n",
       "      <td>0</td>\n",
       "      <td>0</td>\n",
       "      <td>0</td>\n",
       "      <td>0</td>\n",
       "      <td>0</td>\n",
       "      <td>0</td>\n",
       "      <td>0</td>\n",
       "      <td>1</td>\n",
       "      <td>1</td>\n",
       "    </tr>\n",
       "    <tr>\n",
       "      <th>28063</th>\n",
       "      <td>['Italian', 'Mediterranean', 'European', 'Hung...</td>\n",
       "      <td>427.0</td>\n",
       "      <td>2.0</td>\n",
       "      <td>272.0</td>\n",
       "      <td>[['Excellent, delicious pasta', 'A bit pricey ...</td>\n",
       "      <td>/Restaurant_Review-g274887-d2140780-Reviews-Tr...</td>\n",
       "      <td>d2140780</td>\n",
       "      <td>1</td>\n",
       "      <td>4.0</td>\n",
       "      <td>0</td>\n",
       "      <td>...</td>\n",
       "      <td>0</td>\n",
       "      <td>0</td>\n",
       "      <td>0</td>\n",
       "      <td>0</td>\n",
       "      <td>0</td>\n",
       "      <td>0</td>\n",
       "      <td>0</td>\n",
       "      <td>0</td>\n",
       "      <td>1</td>\n",
       "      <td>4</td>\n",
       "    </tr>\n",
       "    <tr>\n",
       "      <th>38668</th>\n",
       "      <td>['Spanish']</td>\n",
       "      <td>118.0</td>\n",
       "      <td>1.0</td>\n",
       "      <td>536.0</td>\n",
       "      <td>[['Amazing bacalao', 'Elevenses'], ['10/09/201...</td>\n",
       "      <td>/Restaurant_Review-g187514-d2457354-Reviews-Ca...</td>\n",
       "      <td>d2457354</td>\n",
       "      <td>1</td>\n",
       "      <td>4.5</td>\n",
       "      <td>0</td>\n",
       "      <td>...</td>\n",
       "      <td>0</td>\n",
       "      <td>0</td>\n",
       "      <td>0</td>\n",
       "      <td>0</td>\n",
       "      <td>0</td>\n",
       "      <td>0</td>\n",
       "      <td>0</td>\n",
       "      <td>0</td>\n",
       "      <td>0</td>\n",
       "      <td>1</td>\n",
       "    </tr>\n",
       "    <tr>\n",
       "      <th>20148</th>\n",
       "      <td>['Other']</td>\n",
       "      <td>2282.0</td>\n",
       "      <td>2.0</td>\n",
       "      <td>7.0</td>\n",
       "      <td>[[], []]</td>\n",
       "      <td>/Restaurant_Review-g1156375-d2446474-Reviews-L...</td>\n",
       "      <td>d2446474</td>\n",
       "      <td>1</td>\n",
       "      <td>4.0</td>\n",
       "      <td>0</td>\n",
       "      <td>...</td>\n",
       "      <td>0</td>\n",
       "      <td>0</td>\n",
       "      <td>0</td>\n",
       "      <td>0</td>\n",
       "      <td>0</td>\n",
       "      <td>0</td>\n",
       "      <td>0</td>\n",
       "      <td>0</td>\n",
       "      <td>1</td>\n",
       "      <td>1</td>\n",
       "    </tr>\n",
       "    <tr>\n",
       "      <th>22464</th>\n",
       "      <td>['Other']</td>\n",
       "      <td>5789.0</td>\n",
       "      <td>2.0</td>\n",
       "      <td>0.0</td>\n",
       "      <td>[['Good Food, Plane Views'], ['04/17/2017']]</td>\n",
       "      <td>/Restaurant_Review-g187514-d12336098-Reviews-L...</td>\n",
       "      <td>d12336098</td>\n",
       "      <td>1</td>\n",
       "      <td>4.0</td>\n",
       "      <td>1</td>\n",
       "      <td>...</td>\n",
       "      <td>0</td>\n",
       "      <td>0</td>\n",
       "      <td>0</td>\n",
       "      <td>0</td>\n",
       "      <td>0</td>\n",
       "      <td>0</td>\n",
       "      <td>0</td>\n",
       "      <td>0</td>\n",
       "      <td>1</td>\n",
       "      <td>1</td>\n",
       "    </tr>\n",
       "    <tr>\n",
       "      <th>23771</th>\n",
       "      <td>['Vietnamese', 'Vegetarian Friendly', 'Vegan O...</td>\n",
       "      <td>1066.0</td>\n",
       "      <td>2.0</td>\n",
       "      <td>38.0</td>\n",
       "      <td>[['#foodtasting', 'Great food. Pretty restaura...</td>\n",
       "      <td>/Restaurant_Review-g187147-d12572376-Reviews-C...</td>\n",
       "      <td>d12572376</td>\n",
       "      <td>1</td>\n",
       "      <td>5.0</td>\n",
       "      <td>0</td>\n",
       "      <td>...</td>\n",
       "      <td>0</td>\n",
       "      <td>0</td>\n",
       "      <td>0</td>\n",
       "      <td>0</td>\n",
       "      <td>0</td>\n",
       "      <td>0</td>\n",
       "      <td>0</td>\n",
       "      <td>0</td>\n",
       "      <td>1</td>\n",
       "      <td>3</td>\n",
       "    </tr>\n",
       "    <tr>\n",
       "      <th>29913</th>\n",
       "      <td>['Brazilian', 'South American']</td>\n",
       "      <td>5214.0</td>\n",
       "      <td>1.0</td>\n",
       "      <td>18.0</td>\n",
       "      <td>[['Not authentic Brazilian restaurant', 'Terri...</td>\n",
       "      <td>/Restaurant_Review-g187497-d6419399-Reviews-Ba...</td>\n",
       "      <td>d6419399</td>\n",
       "      <td>1</td>\n",
       "      <td>3.5</td>\n",
       "      <td>0</td>\n",
       "      <td>...</td>\n",
       "      <td>0</td>\n",
       "      <td>0</td>\n",
       "      <td>0</td>\n",
       "      <td>0</td>\n",
       "      <td>0</td>\n",
       "      <td>0</td>\n",
       "      <td>0</td>\n",
       "      <td>0</td>\n",
       "      <td>0</td>\n",
       "      <td>2</td>\n",
       "    </tr>\n",
       "    <tr>\n",
       "      <th>20065</th>\n",
       "      <td>['Other']</td>\n",
       "      <td>3490.0</td>\n",
       "      <td>2.0</td>\n",
       "      <td>2.0</td>\n",
       "      <td>[['Best sushi we had in berlin!'], ['10/01/201...</td>\n",
       "      <td>/Restaurant_Review-g187323-d12309603-Reviews-B...</td>\n",
       "      <td>d12309603</td>\n",
       "      <td>1</td>\n",
       "      <td>5.0</td>\n",
       "      <td>0</td>\n",
       "      <td>...</td>\n",
       "      <td>0</td>\n",
       "      <td>0</td>\n",
       "      <td>0</td>\n",
       "      <td>0</td>\n",
       "      <td>0</td>\n",
       "      <td>0</td>\n",
       "      <td>0</td>\n",
       "      <td>0</td>\n",
       "      <td>1</td>\n",
       "      <td>1</td>\n",
       "    </tr>\n",
       "    <tr>\n",
       "      <th>40310</th>\n",
       "      <td>['Other']</td>\n",
       "      <td>1509.0</td>\n",
       "      <td>2.0</td>\n",
       "      <td>3.0</td>\n",
       "      <td>[['Excellent Breakfast'], ['08/22/2012']]</td>\n",
       "      <td>/Restaurant_Review-g187331-d1381866-Reviews-Si...</td>\n",
       "      <td>d1381866</td>\n",
       "      <td>1</td>\n",
       "      <td>4.5</td>\n",
       "      <td>0</td>\n",
       "      <td>...</td>\n",
       "      <td>0</td>\n",
       "      <td>0</td>\n",
       "      <td>0</td>\n",
       "      <td>0</td>\n",
       "      <td>0</td>\n",
       "      <td>0</td>\n",
       "      <td>0</td>\n",
       "      <td>0</td>\n",
       "      <td>1</td>\n",
       "      <td>1</td>\n",
       "    </tr>\n",
       "  </tbody>\n",
       "</table>\n",
       "<p>10 rows × 68 columns</p>\n",
       "</div>"
      ],
      "text/plain": [
       "                                           Cuisine Style  Ranking  \\\n",
       "47832                                       ['Japanese']   7034.0   \n",
       "29421                                        ['Italian']  15447.0   \n",
       "28063  ['Italian', 'Mediterranean', 'European', 'Hung...    427.0   \n",
       "38668                                        ['Spanish']    118.0   \n",
       "20148                                          ['Other']   2282.0   \n",
       "22464                                          ['Other']   5789.0   \n",
       "23771  ['Vietnamese', 'Vegetarian Friendly', 'Vegan O...   1066.0   \n",
       "29913                    ['Brazilian', 'South American']   5214.0   \n",
       "20065                                          ['Other']   3490.0   \n",
       "40310                                          ['Other']   1509.0   \n",
       "\n",
       "       Price Range  Number of Reviews  \\\n",
       "47832          2.0               26.0   \n",
       "29421          2.0               56.0   \n",
       "28063          2.0              272.0   \n",
       "38668          1.0              536.0   \n",
       "20148          2.0                7.0   \n",
       "22464          2.0                0.0   \n",
       "23771          2.0               38.0   \n",
       "29913          1.0               18.0   \n",
       "20065          2.0                2.0   \n",
       "40310          2.0                3.0   \n",
       "\n",
       "                                                 Reviews  \\\n",
       "47832  [['Perfect', 'Small and quaint locals resturan...   \n",
       "29421  [['Has so much potential but falls short.', 'T...   \n",
       "28063  [['Excellent, delicious pasta', 'A bit pricey ...   \n",
       "38668  [['Amazing bacalao', 'Elevenses'], ['10/09/201...   \n",
       "20148                                           [[], []]   \n",
       "22464       [['Good Food, Plane Views'], ['04/17/2017']]   \n",
       "23771  [['#foodtasting', 'Great food. Pretty restaura...   \n",
       "29913  [['Not authentic Brazilian restaurant', 'Terri...   \n",
       "20065  [['Best sushi we had in berlin!'], ['10/01/201...   \n",
       "40310          [['Excellent Breakfast'], ['08/22/2012']]   \n",
       "\n",
       "                                                  URL_TA      ID_TA  sample  \\\n",
       "47832  /Restaurant_Review-g187147-d793121-Reviews-Le_...    d793121       1   \n",
       "29421  /Restaurant_Review-g186338-d7223185-Reviews-Lo...   d7223185       1   \n",
       "28063  /Restaurant_Review-g274887-d2140780-Reviews-Tr...   d2140780       1   \n",
       "38668  /Restaurant_Review-g187514-d2457354-Reviews-Ca...   d2457354       1   \n",
       "20148  /Restaurant_Review-g1156375-d2446474-Reviews-L...   d2446474       1   \n",
       "22464  /Restaurant_Review-g187514-d12336098-Reviews-L...  d12336098       1   \n",
       "23771  /Restaurant_Review-g187147-d12572376-Reviews-C...  d12572376       1   \n",
       "29913  /Restaurant_Review-g187497-d6419399-Reviews-Ba...   d6419399       1   \n",
       "20065  /Restaurant_Review-g187323-d12309603-Reviews-B...  d12309603       1   \n",
       "40310  /Restaurant_Review-g187331-d1381866-Reviews-Si...   d1381866       1   \n",
       "\n",
       "       Rating  Number_of_Reviews_isNaN  ...  State_LU  State_NL  State_NO  \\\n",
       "47832     4.0                        0  ...         0         0         0   \n",
       "29421     3.0                        0  ...         0         0         0   \n",
       "28063     4.0                        0  ...         0         0         0   \n",
       "38668     4.5                        0  ...         0         0         0   \n",
       "20148     4.0                        0  ...         0         0         0   \n",
       "22464     4.0                        1  ...         0         0         0   \n",
       "23771     5.0                        0  ...         0         0         0   \n",
       "29913     3.5                        0  ...         0         0         0   \n",
       "20065     5.0                        0  ...         0         0         0   \n",
       "40310     4.5                        0  ...         0         0         0   \n",
       "\n",
       "       State_PL  State_PT  State_SE  State_SI  State_SK  Price Range_Cat  \\\n",
       "47832         0         0         0         0         0                1   \n",
       "29421         0         0         0         0         0                1   \n",
       "28063         0         0         0         0         0                1   \n",
       "38668         0         0         0         0         0                0   \n",
       "20148         0         0         0         0         0                1   \n",
       "22464         0         0         0         0         0                1   \n",
       "23771         0         0         0         0         0                1   \n",
       "29913         0         0         0         0         0                0   \n",
       "20065         0         0         0         0         0                1   \n",
       "40310         0         0         0         0         0                1   \n",
       "\n",
       "       Number_of_cuisines  \n",
       "47832                   1  \n",
       "29421                   1  \n",
       "28063                   4  \n",
       "38668                   1  \n",
       "20148                   1  \n",
       "22464                   1  \n",
       "23771                   3  \n",
       "29913                   2  \n",
       "20065                   1  \n",
       "40310                   1  \n",
       "\n",
       "[10 rows x 68 columns]"
      ]
     },
     "execution_count": 130,
     "metadata": {},
     "output_type": "execute_result"
    }
   ],
   "source": [
    "data.sample(10)"
   ]
  },
  {
   "cell_type": "markdown",
   "metadata": {},
   "source": [
    "# EDA\n",
    "Exploratory Data Analysis - Анализ данных На этом этапе мы строим графики, ищем закономерности, аномалии, выбросы или связи между признаками. В общем цель этого этапа понять, что эти данные могут нам дать и как признаки могут быть взаимосвязаны между собой. Понимание изначальных признаков позволит сгенерировать новые, более сильные и, тем самым, сделать нашу модель лучше."
   ]
  },
  {
   "cell_type": "code",
   "execution_count": 131,
   "metadata": {
    "execution": {
     "iopub.execute_input": "2021-07-06T11:57:49.067717Z",
     "iopub.status.busy": "2021-07-06T11:57:49.067389Z",
     "iopub.status.idle": "2021-07-06T11:57:49.071778Z",
     "shell.execute_reply": "2021-07-06T11:57:49.071019Z",
     "shell.execute_reply.started": "2021-07-06T11:57:49.067686Z"
    }
   },
   "outputs": [],
   "source": [
    "import matplotlib.pyplot as plt"
   ]
  },
  {
   "cell_type": "code",
   "execution_count": 132,
   "metadata": {
    "execution": {
     "iopub.execute_input": "2021-07-06T11:57:49.073324Z",
     "iopub.status.busy": "2021-07-06T11:57:49.072836Z",
     "iopub.status.idle": "2021-07-06T11:57:49.646776Z",
     "shell.execute_reply": "2021-07-06T11:57:49.646026Z",
     "shell.execute_reply.started": "2021-07-06T11:57:49.073286Z"
    }
   },
   "outputs": [
    {
     "data": {
      "text/plain": [
       "<AxesSubplot:>"
      ]
     },
     "execution_count": 132,
     "metadata": {},
     "output_type": "execute_result"
    },
    {
     "data": {
      "image/png": "[encoded data removed]",
      "text/plain": [
       "<Figure size 720x504 with 1 Axes>"
      ]
     },
     "metadata": {
      "needs_background": "light"
     },
     "output_type": "display_data"
    }
   ],
   "source": [
    "plt.rcParams['figure.figsize'] = (10,7)\n",
    "df_train['Ranking'].hist(bins=100)"
   ]
  },
  {
   "cell_type": "markdown",
   "metadata": {},
   "source": [
    "У нас много ресторанов, которые не дотягивают и до 2500 места в своем городе, а что там по городам?"
   ]
  },
  {
   "cell_type": "code",
   "execution_count": 133,
   "metadata": {
    "execution": {
     "iopub.execute_input": "2021-07-06T11:57:49.648114Z",
     "iopub.status.busy": "2021-07-06T11:57:49.647742Z",
     "iopub.status.idle": "2021-07-06T11:57:50.020552Z",
     "shell.execute_reply": "2021-07-06T11:57:50.019833Z",
     "shell.execute_reply.started": "2021-07-06T11:57:49.648085Z"
    }
   },
   "outputs": [
    {
     "data": {
      "text/plain": [
       "<AxesSubplot:>"
      ]
     },
     "execution_count": 133,
     "metadata": {},
     "output_type": "execute_result"
    },
    {
     "data": {
      "image/png": "[encoded data removed]",
      "text/plain": [
       "<Figure size 720x504 with 1 Axes>"
      ]
     },
     "metadata": {
      "needs_background": "light"
     },
     "output_type": "display_data"
    }
   ],
   "source": [
    "df_train['City'].value_counts(ascending=True).plot(kind='bar')"
   ]
  },
  {
   "cell_type": "markdown",
   "metadata": {},
   "source": [
    "А кто-то говорил, что французы любят поесть=) Посмотрим, как изменится распределение в большом городе:"
   ]
  },
  {
   "cell_type": "code",
   "execution_count": 134,
   "metadata": {
    "execution": {
     "iopub.execute_input": "2021-07-06T11:57:50.022083Z",
     "iopub.status.busy": "2021-07-06T11:57:50.021777Z",
     "iopub.status.idle": "2021-07-06T11:57:50.405587Z",
     "shell.execute_reply": "2021-07-06T11:57:50.404663Z",
     "shell.execute_reply.started": "2021-07-06T11:57:50.022052Z"
    }
   },
   "outputs": [
    {
     "data": {
      "text/plain": [
       "<AxesSubplot:>"
      ]
     },
     "execution_count": 134,
     "metadata": {},
     "output_type": "execute_result"
    },
    {
     "data": {
      "image/png": "[encoded data removed]",
      "text/plain": [
       "<Figure size 720x504 with 1 Axes>"
      ]
     },
     "metadata": {
      "needs_background": "light"
     },
     "output_type": "display_data"
    }
   ],
   "source": [
    "df_train['Ranking'][df_train['City'] =='London'].hist(bins=100)"
   ]
  },
  {
   "cell_type": "code",
   "execution_count": 135,
   "metadata": {
    "execution": {
     "iopub.execute_input": "2021-07-06T11:57:50.407289Z",
     "iopub.status.busy": "2021-07-06T11:57:50.406965Z",
     "iopub.status.idle": "2021-07-06T11:57:52.886914Z",
     "shell.execute_reply": "2021-07-06T11:57:52.885866Z",
     "shell.execute_reply.started": "2021-07-06T11:57:50.407255Z"
    }
   },
   "outputs": [
    {
     "data": {
      "image/png": "[encoded data removed]",
      "text/plain": [
       "<Figure size 720x504 with 1 Axes>"
      ]
     },
     "metadata": {
      "needs_background": "light"
     },
     "output_type": "display_data"
    }
   ],
   "source": [
    "# посмотрим на топ 10 городов\n",
    "for x in (df_train['City'].value_counts())[0:10].index:\n",
    "    df_train['Ranking'][df_train['City'] == x].hist(bins=100)\n",
    "plt.show()"
   ]
  },
  {
   "cell_type": "code",
   "execution_count": 136,
   "metadata": {
    "execution": {
     "iopub.execute_input": "2021-07-06T11:57:52.888581Z",
     "iopub.status.busy": "2021-07-06T11:57:52.888224Z",
     "iopub.status.idle": "2021-07-06T11:57:52.892315Z",
     "shell.execute_reply": "2021-07-06T11:57:52.891353Z",
     "shell.execute_reply.started": "2021-07-06T11:57:52.888544Z"
    }
   },
   "outputs": [],
   "source": [
    "import seaborn as sns"
   ]
  },
  {
   "cell_type": "code",
   "execution_count": 137,
   "metadata": {
    "execution": {
     "iopub.execute_input": "2021-07-06T11:57:52.894251Z",
     "iopub.status.busy": "2021-07-06T11:57:52.893914Z",
     "iopub.status.idle": "2021-07-06T11:58:04.543813Z",
     "shell.execute_reply": "2021-07-06T11:58:04.542533Z",
     "shell.execute_reply.started": "2021-07-06T11:57:52.894219Z"
    }
   },
   "outputs": [
    {
     "data": {
      "image/png": "[encoded data removed]",
      "text/plain": [
       "<Figure size 1080x360 with 1 Axes>"
      ]
     },
     "metadata": {
      "needs_background": "light"
     },
     "output_type": "display_data"
    },
    {
     "data": {
      "image/png": "[encoded data removed]",
      "text/plain": [
       "<Figure size 1080x360 with 1 Axes>"
      ]
     },
     "metadata": {
      "needs_background": "light"
     },
     "output_type": "display_data"
    },
    {
     "data": {
      "image/png": "[encoded data removed]",
      "text/plain": [
       "<Figure size 1080x360 with 1 Axes>"
      ]
     },
     "metadata": {
      "needs_background": "light"
     },
     "output_type": "display_data"
    },
    {
     "data": {
      "image/png": "[encoded data removed]",
      "text/plain": [
       "<Figure size 1080x360 with 1 Axes>"
      ]
     },
     "metadata": {
      "needs_background": "light"
     },
     "output_type": "display_data"
    },
    {
     "data": {
      "image/png": "[encoded data removed]",
      "text/plain": [
       "<Figure size 1080x360 with 1 Axes>"
      ]
     },
     "metadata": {
      "needs_background": "light"
     },
     "output_type": "display_data"
    },
    {
     "data": {
      "image/png": "[encoded data removed]",
      "text/plain": [
       "<Figure size 1080x360 with 1 Axes>"
      ]
     },
     "metadata": {
      "needs_background": "light"
     },
     "output_type": "display_data"
    },
    {
     "data": {
      "image/png": "[encoded data removed]",
      "text/plain": [
       "<Figure size 1080x360 with 1 Axes>"
      ]
     },
     "metadata": {
      "needs_background": "light"
     },
     "output_type": "display_data"
    },
    {
     "data": {
      "image/png": "[encoded data removed]",
      "text/plain": [
       "<Figure size 1080x360 with 1 Axes>"
      ]
     },
     "metadata": {
      "needs_background": "light"
     },
     "output_type": "display_data"
    },
    {
     "data": {
      "image/png": "[encoded data removed]",
      "text/plain": [
       "<Figure size 1080x360 with 1 Axes>"
      ]
     },
     "metadata": {
      "needs_background": "light"
     },
     "output_type": "display_data"
    },
    {
     "data": {
      "image/png": "[encoded data removed]",
      "text/plain": [
       "<Figure size 1080x360 with 1 Axes>"
      ]
     },
     "metadata": {
      "needs_background": "light"
     },
     "output_type": "display_data"
    },
    {
     "data": {
      "image/png": "[encoded data removed]",
      "text/plain": [
       "<Figure size 1080x360 with 1 Axes>"
      ]
     },
     "metadata": {
      "needs_background": "light"
     },
     "output_type": "display_data"
    },
    {
     "data": {
      "image/png": "[encoded data removed]",
      "text/plain": [
       "<Figure size 1080x360 with 1 Axes>"
      ]
     },
     "metadata": {
      "needs_background": "light"
     },
     "output_type": "display_data"
    },
    {
     "data": {
      "image/png": "[encoded data removed]",
      "text/plain": [
       "<Figure size 1080x360 with 1 Axes>"
      ]
     },
     "metadata": {
      "needs_background": "light"
     },
     "output_type": "display_data"
    },
    {
     "data": {
      "image/png": "[encoded data removed]",
      "text/plain": [
       "<Figure size 1080x360 with 1 Axes>"
      ]
     },
     "metadata": {
      "needs_background": "light"
     },
     "output_type": "display_data"
    },
    {
     "data": {
      "image/png": "[encoded data removed]",
      "text/plain": [
       "<Figure size 1080x360 with 1 Axes>"
      ]
     },
     "metadata": {
      "needs_background": "light"
     },
     "output_type": "display_data"
    },
    {
     "data": {
      "image/png": "[encoded data removed]",
      "text/plain": [
       "<Figure size 1080x360 with 1 Axes>"
      ]
     },
     "metadata": {
      "needs_background": "light"
     },
     "output_type": "display_data"
    },
    {
     "data": {
      "image/png": "[encoded data removed]",
      "text/plain": [
       "<Figure size 1080x360 with 1 Axes>"
      ]
     },
     "metadata": {
      "needs_background": "light"
     },
     "output_type": "display_data"
    },
    {
     "data": {
      "image/png": "[encoded data removed]",
      "text/plain": [
       "<Figure size 1080x360 with 1 Axes>"
      ]
     },
     "metadata": {
      "needs_background": "light"
     },
     "output_type": "display_data"
    },
    {
     "data": {
      "image/png": "[encoded data removed]",
      "text/plain": [
       "<Figure size 1080x360 with 1 Axes>"
      ]
     },
     "metadata": {
      "needs_background": "light"
     },
     "output_type": "display_data"
    },
    {
     "data": {
      "image/png": "[encoded data removed]",
      "text/plain": [
       "<Figure size 1080x360 with 1 Axes>"
      ]
     },
     "metadata": {
      "needs_background": "light"
     },
     "output_type": "display_data"
    },
    {
     "data": {
      "image/png": "[encoded data removed]",
      "text/plain": [
       "<Figure size 1080x360 with 1 Axes>"
      ]
     },
     "metadata": {
      "needs_background": "light"
     },
     "output_type": "display_data"
    },
    {
     "data": {
      "image/png": "[encoded data removed]",
      "text/plain": [
       "<Figure size 1080x360 with 1 Axes>"
      ]
     },
     "metadata": {
      "needs_background": "light"
     },
     "output_type": "display_data"
    },
    {
     "data": {
      "image/png": "[encoded data removed]",
      "text/plain": [
       "<Figure size 1080x360 with 1 Axes>"
      ]
     },
     "metadata": {
      "needs_background": "light"
     },
     "output_type": "display_data"
    },
    {
     "data": {
      "image/png": "[encoded data removed]",
      "text/plain": [
       "<Figure size 1080x360 with 1 Axes>"
      ]
     },
     "metadata": {
      "needs_background": "light"
     },
     "output_type": "display_data"
    },
    {
     "data": {
      "image/png": "[encoded data removed]",
      "text/plain": [
       "<Figure size 1080x360 with 1 Axes>"
      ]
     },
     "metadata": {
      "needs_background": "light"
     },
     "output_type": "display_data"
    },
    {
     "data": {
      "image/png": "[encoded data removed]",
      "text/plain": [
       "<Figure size 1080x360 with 1 Axes>"
      ]
     },
     "metadata": {
      "needs_background": "light"
     },
     "output_type": "display_data"
    },
    {
     "data": {
      "image/png": "[encoded data removed]",
      "text/plain": [
       "<Figure size 1080x360 with 1 Axes>"
      ]
     },
     "metadata": {
      "needs_background": "light"
     },
     "output_type": "display_data"
    },
    {
     "data": {
      "image/png": "[encoded data removed]",
      "text/plain": [
       "<Figure size 1080x360 with 1 Axes>"
      ]
     },
     "metadata": {
      "needs_background": "light"
     },
     "output_type": "display_data"
    },
    {
     "data": {
      "image/png": "[encoded data removed]",
      "text/plain": [
       "<Figure size 1080x360 with 1 Axes>"
      ]
     },
     "metadata": {
      "needs_background": "light"
     },
     "output_type": "display_data"
    },
    {
     "data": {
      "image/png": "[encoded data removed]",
      "text/plain": [
       "<Figure size 1080x360 with 1 Axes>"
      ]
     },
     "metadata": {
      "needs_background": "light"
     },
     "output_type": "display_data"
    },
    {
     "data": {
      "image/png": "[encoded data removed]",
      "text/plain": [
       "<Figure size 1080x360 with 1 Axes>"
      ]
     },
     "metadata": {
      "needs_background": "light"
     },
     "output_type": "display_data"
    }
   ],
   "source": [
    "for town in (df_train['City'].value_counts()).index:\n",
    "    fig, ax = plt.subplots(figsize=(15, 5))\n",
    "    section = df_train[df_train['City'] == town]\n",
    "    sns.boxplot(x = 'Rating', y = 'Ranking', data = section)\n",
    "    plt.title(f'Распределение ресторанов по рангу в зависимости от рейтинга в {town}', fontsize=15)\n",
    "    plt.xlabel('Rating')\n",
    "    ax.legend(prop={'size': 10})\n",
    "    plt.show()"
   ]
  },
  {
   "cell_type": "markdown",
   "metadata": {},
   "source": [
    "Практически все распределения ресторанов по рангу в зависимости от рейтинга идентичны за редким исключением"
   ]
  },
  {
   "cell_type": "code",
   "execution_count": 138,
   "metadata": {
    "execution": {
     "iopub.execute_input": "2021-07-06T11:58:04.545627Z",
     "iopub.status.busy": "2021-07-06T11:58:04.545220Z",
     "iopub.status.idle": "2021-07-06T11:58:04.567116Z",
     "shell.execute_reply": "2021-07-06T11:58:04.566018Z",
     "shell.execute_reply.started": "2021-07-06T11:58:04.545593Z"
    }
   },
   "outputs": [],
   "source": [
    "# модель на признаках с dtypes \"object\" обучаться не будет, просто выберим их и удалим\n",
    "object_columns = [s for s in data.columns if data[s].dtypes == 'object']\n",
    "data_output = data.copy()\n",
    "data_output.drop(object_columns, axis = 1, inplace=True)"
   ]
  },
  {
   "cell_type": "code",
   "execution_count": 139,
   "metadata": {
    "execution": {
     "iopub.execute_input": "2021-07-06T11:58:04.569222Z",
     "iopub.status.busy": "2021-07-06T11:58:04.568798Z",
     "iopub.status.idle": "2021-07-06T11:58:04.596132Z",
     "shell.execute_reply": "2021-07-06T11:58:04.594786Z",
     "shell.execute_reply.started": "2021-07-06T11:58:04.569175Z"
    }
   },
   "outputs": [
    {
     "name": "stdout",
     "output_type": "stream",
     "text": [
      "<class 'pandas.core.frame.DataFrame'>\n",
      "RangeIndex: 50000 entries, 0 to 49999\n",
      "Data columns (total 64 columns):\n",
      " #   Column                   Non-Null Count  Dtype  \n",
      "---  ------                   --------------  -----  \n",
      " 0   Ranking                  50000 non-null  float64\n",
      " 1   Price Range              50000 non-null  float64\n",
      " 2   Number of Reviews        50000 non-null  float64\n",
      " 3   sample                   50000 non-null  int64  \n",
      " 4   Rating                   50000 non-null  float64\n",
      " 5   Number_of_Reviews_isNaN  50000 non-null  uint8  \n",
      " 6   Cuisine_Style_isNaN      50000 non-null  uint8  \n",
      " 7   Price_Range_isNaN        50000 non-null  uint8  \n",
      " 8   is_capital               50000 non-null  int64  \n",
      " 9   City_Amsterdam           50000 non-null  uint8  \n",
      " 10  City_Athens              50000 non-null  uint8  \n",
      " 11  City_Barcelona           50000 non-null  uint8  \n",
      " 12  City_Berlin              50000 non-null  uint8  \n",
      " 13  City_Bratislava          50000 non-null  uint8  \n",
      " 14  City_Brussels            50000 non-null  uint8  \n",
      " 15  City_Budapest            50000 non-null  uint8  \n",
      " 16  City_Copenhagen          50000 non-null  uint8  \n",
      " 17  City_Dublin              50000 non-null  uint8  \n",
      " 18  City_Edinburgh           50000 non-null  uint8  \n",
      " 19  City_Geneva              50000 non-null  uint8  \n",
      " 20  City_Hamburg             50000 non-null  uint8  \n",
      " 21  City_Helsinki            50000 non-null  uint8  \n",
      " 22  City_Krakow              50000 non-null  uint8  \n",
      " 23  City_Lisbon              50000 non-null  uint8  \n",
      " 24  City_Ljubljana           50000 non-null  uint8  \n",
      " 25  City_London              50000 non-null  uint8  \n",
      " 26  City_Luxembourg          50000 non-null  uint8  \n",
      " 27  City_Lyon                50000 non-null  uint8  \n",
      " 28  City_Madrid              50000 non-null  uint8  \n",
      " 29  City_Milan               50000 non-null  uint8  \n",
      " 30  City_Munich              50000 non-null  uint8  \n",
      " 31  City_Oporto              50000 non-null  uint8  \n",
      " 32  City_Oslo                50000 non-null  uint8  \n",
      " 33  City_Paris               50000 non-null  uint8  \n",
      " 34  City_Prague              50000 non-null  uint8  \n",
      " 35  City_Rome                50000 non-null  uint8  \n",
      " 36  City_Stockholm           50000 non-null  uint8  \n",
      " 37  City_Vienna              50000 non-null  uint8  \n",
      " 38  City_Warsaw              50000 non-null  uint8  \n",
      " 39  City_Zurich              50000 non-null  uint8  \n",
      " 40  State_AT                 50000 non-null  uint8  \n",
      " 41  State_BE                 50000 non-null  uint8  \n",
      " 42  State_CH                 50000 non-null  uint8  \n",
      " 43  State_CZ                 50000 non-null  uint8  \n",
      " 44  State_DE                 50000 non-null  uint8  \n",
      " 45  State_DK                 50000 non-null  uint8  \n",
      " 46  State_ES                 50000 non-null  uint8  \n",
      " 47  State_FI                 50000 non-null  uint8  \n",
      " 48  State_FR                 50000 non-null  uint8  \n",
      " 49  State_GB                 50000 non-null  uint8  \n",
      " 50  State_GR                 50000 non-null  uint8  \n",
      " 51  State_HU                 50000 non-null  uint8  \n",
      " 52  State_IE                 50000 non-null  uint8  \n",
      " 53  State_IT                 50000 non-null  uint8  \n",
      " 54  State_LU                 50000 non-null  uint8  \n",
      " 55  State_NL                 50000 non-null  uint8  \n",
      " 56  State_NO                 50000 non-null  uint8  \n",
      " 57  State_PL                 50000 non-null  uint8  \n",
      " 58  State_PT                 50000 non-null  uint8  \n",
      " 59  State_SE                 50000 non-null  uint8  \n",
      " 60  State_SI                 50000 non-null  uint8  \n",
      " 61  State_SK                 50000 non-null  uint8  \n",
      " 62  Price Range_Cat          50000 non-null  int64  \n",
      " 63  Number_of_cuisines       50000 non-null  int64  \n",
      "dtypes: float64(4), int64(4), uint8(56)\n",
      "memory usage: 5.7 MB\n"
     ]
    }
   ],
   "source": [
    "data_output.info()"
   ]
  },
  {
   "cell_type": "code",
   "execution_count": 140,
   "metadata": {
    "execution": {
     "iopub.execute_input": "2021-07-06T11:58:04.598313Z",
     "iopub.status.busy": "2021-07-06T11:58:04.597880Z",
     "iopub.status.idle": "2021-07-06T11:58:04.640636Z",
     "shell.execute_reply": "2021-07-06T11:58:04.639546Z",
     "shell.execute_reply.started": "2021-07-06T11:58:04.598265Z"
    }
   },
   "outputs": [],
   "source": [
    "# Теперь выделим тестовую часть\n",
    "train_data = data_output.query('sample == 1').drop(['sample'], axis=1)\n",
    "test_data = data_output.query('sample == 0').drop(['sample'], axis=1)\n",
    "\n",
    "y = train_data.Rating.values            # наш таргет\n",
    "X = train_data.drop(['Rating'], axis=1)"
   ]
  },
  {
   "cell_type": "code",
   "execution_count": 141,
   "metadata": {
    "execution": {
     "iopub.execute_input": "2021-07-06T11:58:04.642563Z",
     "iopub.status.busy": "2021-07-06T11:58:04.642210Z",
     "iopub.status.idle": "2021-07-06T11:58:04.649389Z",
     "shell.execute_reply": "2021-07-06T11:58:04.647518Z",
     "shell.execute_reply.started": "2021-07-06T11:58:04.642530Z"
    }
   },
   "outputs": [],
   "source": [
    "from sklearn.model_selection import train_test_split"
   ]
  },
  {
   "cell_type": "code",
   "execution_count": 142,
   "metadata": {
    "execution": {
     "iopub.execute_input": "2021-07-06T11:58:04.651431Z",
     "iopub.status.busy": "2021-07-06T11:58:04.651102Z",
     "iopub.status.idle": "2021-07-06T11:58:04.679086Z",
     "shell.execute_reply": "2021-07-06T11:58:04.677844Z",
     "shell.execute_reply.started": "2021-07-06T11:58:04.651399Z"
    }
   },
   "outputs": [],
   "source": [
    "# Воспользуемся специальной функцией train_test_split для разбивки тестовых данных\n",
    "# выделим 20% данных на валидацию (параметр test_size)\n",
    "X_train, X_test, y_train, y_test = train_test_split(X, y, test_size=0.2, random_state=RANDOM_SEED)"
   ]
  },
  {
   "cell_type": "code",
   "execution_count": 143,
   "metadata": {
    "execution": {
     "iopub.execute_input": "2021-07-06T11:58:04.680778Z",
     "iopub.status.busy": "2021-07-06T11:58:04.680482Z",
     "iopub.status.idle": "2021-07-06T11:58:04.690998Z",
     "shell.execute_reply": "2021-07-06T11:58:04.689658Z",
     "shell.execute_reply.started": "2021-07-06T11:58:04.680749Z"
    }
   },
   "outputs": [
    {
     "data": {
      "text/plain": [
       "((10000, 63), (40000, 63), (40000, 62), (32000, 62), (8000, 62))"
      ]
     },
     "execution_count": 143,
     "metadata": {},
     "output_type": "execute_result"
    }
   ],
   "source": [
    "# проверяем\n",
    "test_data.shape, train_data.shape, X.shape, X_train.shape, X_test.shape"
   ]
  },
  {
   "cell_type": "code",
   "execution_count": 144,
   "metadata": {
    "execution": {
     "iopub.execute_input": "2021-07-06T11:58:04.692733Z",
     "iopub.status.busy": "2021-07-06T11:58:04.692294Z",
     "iopub.status.idle": "2021-07-06T11:58:04.698633Z",
     "shell.execute_reply": "2021-07-06T11:58:04.697399Z",
     "shell.execute_reply.started": "2021-07-06T11:58:04.692688Z"
    }
   },
   "outputs": [],
   "source": [
    "# Импортируем необходимые библиотеки:\n",
    "from sklearn.ensemble import RandomForestRegressor # инструмент для создания и обучения модели\n",
    "from sklearn import metrics # инструменты для оценки точности модели"
   ]
  },
  {
   "cell_type": "code",
   "execution_count": 145,
   "metadata": {
    "execution": {
     "iopub.execute_input": "2021-07-06T11:58:04.702461Z",
     "iopub.status.busy": "2021-07-06T11:58:04.702120Z",
     "iopub.status.idle": "2021-07-06T11:58:04.715549Z",
     "shell.execute_reply": "2021-07-06T11:58:04.714276Z",
     "shell.execute_reply.started": "2021-07-06T11:58:04.702411Z"
    }
   },
   "outputs": [],
   "source": [
    "# Создаём модель (НАСТРОЙКИ НЕ ТРОГАЕМ)\n",
    "model = RandomForestRegressor(n_estimators=100, verbose=1, n_jobs=-1, random_state=RANDOM_SEED)"
   ]
  },
  {
   "cell_type": "code",
   "execution_count": 146,
   "metadata": {
    "execution": {
     "iopub.execute_input": "2021-07-06T11:58:04.719107Z",
     "iopub.status.busy": "2021-07-06T11:58:04.718644Z",
     "iopub.status.idle": "2021-07-06T11:58:10.714490Z",
     "shell.execute_reply": "2021-07-06T11:58:10.712388Z",
     "shell.execute_reply.started": "2021-07-06T11:58:04.719070Z"
    }
   },
   "outputs": [
    {
     "name": "stderr",
     "output_type": "stream",
     "text": [
      "[Parallel(n_jobs=-1)]: Using backend ThreadingBackend with 4 concurrent workers.\n",
      "[Parallel(n_jobs=-1)]: Done  42 tasks      | elapsed:    2.6s\n",
      "[Parallel(n_jobs=-1)]: Done 100 out of 100 | elapsed:    5.8s finished\n",
      "[Parallel(n_jobs=4)]: Using backend ThreadingBackend with 4 concurrent workers.\n",
      "[Parallel(n_jobs=4)]: Done  42 tasks      | elapsed:    0.0s\n",
      "[Parallel(n_jobs=4)]: Done 100 out of 100 | elapsed:    0.1s finished\n"
     ]
    }
   ],
   "source": [
    "# Обучаем модель на тестовом наборе данных\n",
    "model.fit(X_train, y_train)\n",
    "\n",
    "# Используем обученную модель для предсказания рейтинга ресторанов в тестовой выборке.\n",
    "# Предсказанные значения записываем в переменную y_pred\n",
    "y_pred = model.predict(X_test)"
   ]
  },
  {
   "cell_type": "code",
   "execution_count": 147,
   "metadata": {
    "execution": {
     "iopub.execute_input": "2021-07-06T11:58:10.722242Z",
     "iopub.status.busy": "2021-07-06T11:58:10.721881Z",
     "iopub.status.idle": "2021-07-06T11:58:10.729570Z",
     "shell.execute_reply": "2021-07-06T11:58:10.728243Z",
     "shell.execute_reply.started": "2021-07-06T11:58:10.722209Z"
    }
   },
   "outputs": [
    {
     "name": "stdout",
     "output_type": "stream",
     "text": [
      "MAE: 0.21035125\n"
     ]
    }
   ],
   "source": [
    "# Сравниваем предсказанные значения (y_pred) с реальными (y_test), и смотрим насколько они в среднем отличаются\n",
    "# Метрика называется Mean Absolute Error (MAE) и показывает среднее отклонение предсказанных значений от фактических.\n",
    "print('MAE:', metrics.mean_absolute_error(y_test, y_pred))"
   ]
  },
  {
   "cell_type": "code",
   "execution_count": 148,
   "metadata": {
    "execution": {
     "iopub.execute_input": "2021-07-06T11:58:10.731520Z",
     "iopub.status.busy": "2021-07-06T11:58:10.731184Z",
     "iopub.status.idle": "2021-07-06T11:58:11.107855Z",
     "shell.execute_reply": "2021-07-06T11:58:11.106865Z",
     "shell.execute_reply.started": "2021-07-06T11:58:10.731489Z"
    }
   },
   "outputs": [
    {
     "data": {
      "text/plain": [
       "<AxesSubplot:>"
      ]
     },
     "execution_count": 148,
     "metadata": {},
     "output_type": "execute_result"
    },
    {
     "data": {
      "image/png": "[encoded data removed]",
      "text/plain": [
       "<Figure size 720x720 with 1 Axes>"
      ]
     },
     "metadata": {
      "needs_background": "light"
     },
     "output_type": "display_data"
    }
   ],
   "source": [
    "# в RandomForestRegressor есть возможность вывести самые важные признаки для модели\n",
    "plt.rcParams['figure.figsize'] = (10,10)\n",
    "feat_importances = pd.Series(model.feature_importances_, index=X.columns)\n",
    "feat_importances.nlargest(15).plot(kind='bar')"
   ]
  },
  {
   "cell_type": "markdown",
   "metadata": {},
   "source": [
    "# Submission"
   ]
  },
  {
   "cell_type": "markdown",
   "metadata": {},
   "source": [
    "Если все устраевает - готовим Submission на кагл"
   ]
  },
  {
   "cell_type": "code",
   "execution_count": 149,
   "metadata": {
    "execution": {
     "iopub.execute_input": "2021-07-06T11:58:11.109907Z",
     "iopub.status.busy": "2021-07-06T11:58:11.109487Z",
     "iopub.status.idle": "2021-07-06T11:58:11.144847Z",
     "shell.execute_reply": "2021-07-06T11:58:11.143609Z",
     "shell.execute_reply.started": "2021-07-06T11:58:11.109862Z"
    }
   },
   "outputs": [
    {
     "data": {
      "text/html": [
       "<div>\n",
       "<style scoped>\n",
       "    .dataframe tbody tr th:only-of-type {\n",
       "        vertical-align: middle;\n",
       "    }\n",
       "\n",
       "    .dataframe tbody tr th {\n",
       "        vertical-align: top;\n",
       "    }\n",
       "\n",
       "    .dataframe thead th {\n",
       "        text-align: right;\n",
       "    }\n",
       "</style>\n",
       "<table border=\"1\" class=\"dataframe\">\n",
       "  <thead>\n",
       "    <tr style=\"text-align: right;\">\n",
       "      <th></th>\n",
       "      <th>Ranking</th>\n",
       "      <th>Price Range</th>\n",
       "      <th>Number of Reviews</th>\n",
       "      <th>Rating</th>\n",
       "      <th>Number_of_Reviews_isNaN</th>\n",
       "      <th>Cuisine_Style_isNaN</th>\n",
       "      <th>Price_Range_isNaN</th>\n",
       "      <th>is_capital</th>\n",
       "      <th>City_Amsterdam</th>\n",
       "      <th>City_Athens</th>\n",
       "      <th>...</th>\n",
       "      <th>State_LU</th>\n",
       "      <th>State_NL</th>\n",
       "      <th>State_NO</th>\n",
       "      <th>State_PL</th>\n",
       "      <th>State_PT</th>\n",
       "      <th>State_SE</th>\n",
       "      <th>State_SI</th>\n",
       "      <th>State_SK</th>\n",
       "      <th>Price Range_Cat</th>\n",
       "      <th>Number_of_cuisines</th>\n",
       "    </tr>\n",
       "  </thead>\n",
       "  <tbody>\n",
       "    <tr>\n",
       "      <th>7822</th>\n",
       "      <td>8749.0</td>\n",
       "      <td>2.0</td>\n",
       "      <td>7.0</td>\n",
       "      <td>0.0</td>\n",
       "      <td>0</td>\n",
       "      <td>1</td>\n",
       "      <td>1</td>\n",
       "      <td>1</td>\n",
       "      <td>0</td>\n",
       "      <td>0</td>\n",
       "      <td>...</td>\n",
       "      <td>0</td>\n",
       "      <td>0</td>\n",
       "      <td>0</td>\n",
       "      <td>0</td>\n",
       "      <td>0</td>\n",
       "      <td>0</td>\n",
       "      <td>0</td>\n",
       "      <td>0</td>\n",
       "      <td>1</td>\n",
       "      <td>1</td>\n",
       "    </tr>\n",
       "    <tr>\n",
       "      <th>7077</th>\n",
       "      <td>2631.0</td>\n",
       "      <td>2.0</td>\n",
       "      <td>6.0</td>\n",
       "      <td>0.0</td>\n",
       "      <td>0</td>\n",
       "      <td>0</td>\n",
       "      <td>1</td>\n",
       "      <td>0</td>\n",
       "      <td>0</td>\n",
       "      <td>0</td>\n",
       "      <td>...</td>\n",
       "      <td>0</td>\n",
       "      <td>0</td>\n",
       "      <td>0</td>\n",
       "      <td>0</td>\n",
       "      <td>0</td>\n",
       "      <td>0</td>\n",
       "      <td>0</td>\n",
       "      <td>0</td>\n",
       "      <td>1</td>\n",
       "      <td>1</td>\n",
       "    </tr>\n",
       "    <tr>\n",
       "      <th>9954</th>\n",
       "      <td>1122.0</td>\n",
       "      <td>3.0</td>\n",
       "      <td>554.0</td>\n",
       "      <td>0.0</td>\n",
       "      <td>0</td>\n",
       "      <td>0</td>\n",
       "      <td>0</td>\n",
       "      <td>1</td>\n",
       "      <td>0</td>\n",
       "      <td>0</td>\n",
       "      <td>...</td>\n",
       "      <td>0</td>\n",
       "      <td>0</td>\n",
       "      <td>0</td>\n",
       "      <td>0</td>\n",
       "      <td>0</td>\n",
       "      <td>0</td>\n",
       "      <td>0</td>\n",
       "      <td>0</td>\n",
       "      <td>2</td>\n",
       "      <td>6</td>\n",
       "    </tr>\n",
       "    <tr>\n",
       "      <th>1935</th>\n",
       "      <td>924.0</td>\n",
       "      <td>2.0</td>\n",
       "      <td>543.0</td>\n",
       "      <td>0.0</td>\n",
       "      <td>0</td>\n",
       "      <td>0</td>\n",
       "      <td>0</td>\n",
       "      <td>1</td>\n",
       "      <td>0</td>\n",
       "      <td>0</td>\n",
       "      <td>...</td>\n",
       "      <td>0</td>\n",
       "      <td>0</td>\n",
       "      <td>0</td>\n",
       "      <td>0</td>\n",
       "      <td>0</td>\n",
       "      <td>0</td>\n",
       "      <td>0</td>\n",
       "      <td>0</td>\n",
       "      <td>1</td>\n",
       "      <td>5</td>\n",
       "    </tr>\n",
       "    <tr>\n",
       "      <th>5375</th>\n",
       "      <td>1607.0</td>\n",
       "      <td>2.0</td>\n",
       "      <td>34.0</td>\n",
       "      <td>0.0</td>\n",
       "      <td>0</td>\n",
       "      <td>0</td>\n",
       "      <td>0</td>\n",
       "      <td>1</td>\n",
       "      <td>0</td>\n",
       "      <td>0</td>\n",
       "      <td>...</td>\n",
       "      <td>0</td>\n",
       "      <td>0</td>\n",
       "      <td>0</td>\n",
       "      <td>0</td>\n",
       "      <td>1</td>\n",
       "      <td>0</td>\n",
       "      <td>0</td>\n",
       "      <td>0</td>\n",
       "      <td>1</td>\n",
       "      <td>3</td>\n",
       "    </tr>\n",
       "    <tr>\n",
       "      <th>8576</th>\n",
       "      <td>879.0</td>\n",
       "      <td>2.0</td>\n",
       "      <td>363.0</td>\n",
       "      <td>0.0</td>\n",
       "      <td>0</td>\n",
       "      <td>0</td>\n",
       "      <td>0</td>\n",
       "      <td>0</td>\n",
       "      <td>0</td>\n",
       "      <td>0</td>\n",
       "      <td>...</td>\n",
       "      <td>0</td>\n",
       "      <td>0</td>\n",
       "      <td>0</td>\n",
       "      <td>0</td>\n",
       "      <td>0</td>\n",
       "      <td>0</td>\n",
       "      <td>0</td>\n",
       "      <td>0</td>\n",
       "      <td>1</td>\n",
       "      <td>2</td>\n",
       "    </tr>\n",
       "    <tr>\n",
       "      <th>5743</th>\n",
       "      <td>375.0</td>\n",
       "      <td>2.0</td>\n",
       "      <td>163.0</td>\n",
       "      <td>0.0</td>\n",
       "      <td>0</td>\n",
       "      <td>0</td>\n",
       "      <td>0</td>\n",
       "      <td>1</td>\n",
       "      <td>0</td>\n",
       "      <td>0</td>\n",
       "      <td>...</td>\n",
       "      <td>0</td>\n",
       "      <td>0</td>\n",
       "      <td>0</td>\n",
       "      <td>0</td>\n",
       "      <td>0</td>\n",
       "      <td>0</td>\n",
       "      <td>0</td>\n",
       "      <td>0</td>\n",
       "      <td>1</td>\n",
       "      <td>4</td>\n",
       "    </tr>\n",
       "    <tr>\n",
       "      <th>9991</th>\n",
       "      <td>8663.0</td>\n",
       "      <td>2.0</td>\n",
       "      <td>57.0</td>\n",
       "      <td>0.0</td>\n",
       "      <td>0</td>\n",
       "      <td>0</td>\n",
       "      <td>0</td>\n",
       "      <td>1</td>\n",
       "      <td>0</td>\n",
       "      <td>0</td>\n",
       "      <td>...</td>\n",
       "      <td>0</td>\n",
       "      <td>0</td>\n",
       "      <td>0</td>\n",
       "      <td>0</td>\n",
       "      <td>0</td>\n",
       "      <td>0</td>\n",
       "      <td>0</td>\n",
       "      <td>0</td>\n",
       "      <td>1</td>\n",
       "      <td>2</td>\n",
       "    </tr>\n",
       "    <tr>\n",
       "      <th>5344</th>\n",
       "      <td>2030.0</td>\n",
       "      <td>2.0</td>\n",
       "      <td>40.0</td>\n",
       "      <td>0.0</td>\n",
       "      <td>0</td>\n",
       "      <td>0</td>\n",
       "      <td>0</td>\n",
       "      <td>0</td>\n",
       "      <td>0</td>\n",
       "      <td>0</td>\n",
       "      <td>...</td>\n",
       "      <td>0</td>\n",
       "      <td>0</td>\n",
       "      <td>0</td>\n",
       "      <td>0</td>\n",
       "      <td>0</td>\n",
       "      <td>0</td>\n",
       "      <td>0</td>\n",
       "      <td>0</td>\n",
       "      <td>1</td>\n",
       "      <td>1</td>\n",
       "    </tr>\n",
       "    <tr>\n",
       "      <th>2665</th>\n",
       "      <td>3881.0</td>\n",
       "      <td>2.0</td>\n",
       "      <td>217.0</td>\n",
       "      <td>0.0</td>\n",
       "      <td>0</td>\n",
       "      <td>0</td>\n",
       "      <td>0</td>\n",
       "      <td>0</td>\n",
       "      <td>0</td>\n",
       "      <td>0</td>\n",
       "      <td>...</td>\n",
       "      <td>0</td>\n",
       "      <td>0</td>\n",
       "      <td>0</td>\n",
       "      <td>0</td>\n",
       "      <td>0</td>\n",
       "      <td>0</td>\n",
       "      <td>0</td>\n",
       "      <td>0</td>\n",
       "      <td>1</td>\n",
       "      <td>3</td>\n",
       "    </tr>\n",
       "  </tbody>\n",
       "</table>\n",
       "<p>10 rows × 63 columns</p>\n",
       "</div>"
      ],
      "text/plain": [
       "      Ranking  Price Range  Number of Reviews  Rating  \\\n",
       "7822   8749.0          2.0                7.0     0.0   \n",
       "7077   2631.0          2.0                6.0     0.0   \n",
       "9954   1122.0          3.0              554.0     0.0   \n",
       "1935    924.0          2.0              543.0     0.0   \n",
       "5375   1607.0          2.0               34.0     0.0   \n",
       "8576    879.0          2.0              363.0     0.0   \n",
       "5743    375.0          2.0              163.0     0.0   \n",
       "9991   8663.0          2.0               57.0     0.0   \n",
       "5344   2030.0          2.0               40.0     0.0   \n",
       "2665   3881.0          2.0              217.0     0.0   \n",
       "\n",
       "      Number_of_Reviews_isNaN  Cuisine_Style_isNaN  Price_Range_isNaN  \\\n",
       "7822                        0                    1                  1   \n",
       "7077                        0                    0                  1   \n",
       "9954                        0                    0                  0   \n",
       "1935                        0                    0                  0   \n",
       "5375                        0                    0                  0   \n",
       "8576                        0                    0                  0   \n",
       "5743                        0                    0                  0   \n",
       "9991                        0                    0                  0   \n",
       "5344                        0                    0                  0   \n",
       "2665                        0                    0                  0   \n",
       "\n",
       "      is_capital  City_Amsterdam  City_Athens  ...  State_LU  State_NL  \\\n",
       "7822           1               0            0  ...         0         0   \n",
       "7077           0               0            0  ...         0         0   \n",
       "9954           1               0            0  ...         0         0   \n",
       "1935           1               0            0  ...         0         0   \n",
       "5375           1               0            0  ...         0         0   \n",
       "8576           0               0            0  ...         0         0   \n",
       "5743           1               0            0  ...         0         0   \n",
       "9991           1               0            0  ...         0         0   \n",
       "5344           0               0            0  ...         0         0   \n",
       "2665           0               0            0  ...         0         0   \n",
       "\n",
       "      State_NO  State_PL  State_PT  State_SE  State_SI  State_SK  \\\n",
       "7822         0         0         0         0         0         0   \n",
       "7077         0         0         0         0         0         0   \n",
       "9954         0         0         0         0         0         0   \n",
       "1935         0         0         0         0         0         0   \n",
       "5375         0         0         1         0         0         0   \n",
       "8576         0         0         0         0         0         0   \n",
       "5743         0         0         0         0         0         0   \n",
       "9991         0         0         0         0         0         0   \n",
       "5344         0         0         0         0         0         0   \n",
       "2665         0         0         0         0         0         0   \n",
       "\n",
       "      Price Range_Cat  Number_of_cuisines  \n",
       "7822                1                   1  \n",
       "7077                1                   1  \n",
       "9954                2                   6  \n",
       "1935                1                   5  \n",
       "5375                1                   3  \n",
       "8576                1                   2  \n",
       "5743                1                   4  \n",
       "9991                1                   2  \n",
       "5344                1                   1  \n",
       "2665                1                   3  \n",
       "\n",
       "[10 rows x 63 columns]"
      ]
     },
     "execution_count": 149,
     "metadata": {},
     "output_type": "execute_result"
    }
   ],
   "source": [
    "test_data.sample(10)"
   ]
  },
  {
   "cell_type": "code",
   "execution_count": 150,
   "metadata": {
    "execution": {
     "iopub.execute_input": "2021-07-06T11:58:11.146727Z",
     "iopub.status.busy": "2021-07-06T11:58:11.146307Z",
     "iopub.status.idle": "2021-07-06T11:58:11.153375Z",
     "shell.execute_reply": "2021-07-06T11:58:11.152347Z",
     "shell.execute_reply.started": "2021-07-06T11:58:11.146690Z"
    }
   },
   "outputs": [],
   "source": [
    "test_data = test_data.drop(['Rating'], axis=1)"
   ]
  },
  {
   "cell_type": "code",
   "execution_count": 151,
   "metadata": {
    "execution": {
     "iopub.execute_input": "2021-07-06T11:58:11.155537Z",
     "iopub.status.busy": "2021-07-06T11:58:11.155137Z",
     "iopub.status.idle": "2021-07-06T11:58:11.178949Z",
     "shell.execute_reply": "2021-07-06T11:58:11.177854Z",
     "shell.execute_reply.started": "2021-07-06T11:58:11.155503Z"
    }
   },
   "outputs": [
    {
     "data": {
      "text/html": [
       "<div>\n",
       "<style scoped>\n",
       "    .dataframe tbody tr th:only-of-type {\n",
       "        vertical-align: middle;\n",
       "    }\n",
       "\n",
       "    .dataframe tbody tr th {\n",
       "        vertical-align: top;\n",
       "    }\n",
       "\n",
       "    .dataframe thead th {\n",
       "        text-align: right;\n",
       "    }\n",
       "</style>\n",
       "<table border=\"1\" class=\"dataframe\">\n",
       "  <thead>\n",
       "    <tr style=\"text-align: right;\">\n",
       "      <th></th>\n",
       "      <th>Restaurant_id</th>\n",
       "      <th>Rating</th>\n",
       "    </tr>\n",
       "  </thead>\n",
       "  <tbody>\n",
       "    <tr>\n",
       "      <th>0</th>\n",
       "      <td>id_0</td>\n",
       "      <td>2.0</td>\n",
       "    </tr>\n",
       "    <tr>\n",
       "      <th>1</th>\n",
       "      <td>id_1</td>\n",
       "      <td>2.5</td>\n",
       "    </tr>\n",
       "    <tr>\n",
       "      <th>2</th>\n",
       "      <td>id_2</td>\n",
       "      <td>4.0</td>\n",
       "    </tr>\n",
       "    <tr>\n",
       "      <th>3</th>\n",
       "      <td>id_3</td>\n",
       "      <td>1.0</td>\n",
       "    </tr>\n",
       "    <tr>\n",
       "      <th>4</th>\n",
       "      <td>id_4</td>\n",
       "      <td>4.0</td>\n",
       "    </tr>\n",
       "    <tr>\n",
       "      <th>...</th>\n",
       "      <td>...</td>\n",
       "      <td>...</td>\n",
       "    </tr>\n",
       "    <tr>\n",
       "      <th>9995</th>\n",
       "      <td>id_9995</td>\n",
       "      <td>3.0</td>\n",
       "    </tr>\n",
       "    <tr>\n",
       "      <th>9996</th>\n",
       "      <td>id_9996</td>\n",
       "      <td>1.5</td>\n",
       "    </tr>\n",
       "    <tr>\n",
       "      <th>9997</th>\n",
       "      <td>id_9997</td>\n",
       "      <td>4.5</td>\n",
       "    </tr>\n",
       "    <tr>\n",
       "      <th>9998</th>\n",
       "      <td>id_9998</td>\n",
       "      <td>1.0</td>\n",
       "    </tr>\n",
       "    <tr>\n",
       "      <th>9999</th>\n",
       "      <td>id_9999</td>\n",
       "      <td>2.5</td>\n",
       "    </tr>\n",
       "  </tbody>\n",
       "</table>\n",
       "<p>10000 rows × 2 columns</p>\n",
       "</div>"
      ],
      "text/plain": [
       "     Restaurant_id  Rating\n",
       "0             id_0     2.0\n",
       "1             id_1     2.5\n",
       "2             id_2     4.0\n",
       "3             id_3     1.0\n",
       "4             id_4     4.0\n",
       "...            ...     ...\n",
       "9995       id_9995     3.0\n",
       "9996       id_9996     1.5\n",
       "9997       id_9997     4.5\n",
       "9998       id_9998     1.0\n",
       "9999       id_9999     2.5\n",
       "\n",
       "[10000 rows x 2 columns]"
      ]
     },
     "execution_count": 151,
     "metadata": {},
     "output_type": "execute_result"
    }
   ],
   "source": [
    "sample_submission"
   ]
  },
  {
   "cell_type": "code",
   "execution_count": 152,
   "metadata": {
    "execution": {
     "iopub.execute_input": "2021-07-06T11:58:11.180726Z",
     "iopub.status.busy": "2021-07-06T11:58:11.180274Z",
     "iopub.status.idle": "2021-07-06T11:58:11.394130Z",
     "shell.execute_reply": "2021-07-06T11:58:11.393065Z",
     "shell.execute_reply.started": "2021-07-06T11:58:11.180674Z"
    }
   },
   "outputs": [
    {
     "name": "stderr",
     "output_type": "stream",
     "text": [
      "[Parallel(n_jobs=4)]: Using backend ThreadingBackend with 4 concurrent workers.\n",
      "[Parallel(n_jobs=4)]: Done  42 tasks      | elapsed:    0.1s\n",
      "[Parallel(n_jobs=4)]: Done 100 out of 100 | elapsed:    0.1s finished\n"
     ]
    }
   ],
   "source": [
    "predict_submission = model.predict(test_data)"
   ]
  },
  {
   "cell_type": "code",
   "execution_count": 153,
   "metadata": {
    "execution": {
     "iopub.execute_input": "2021-07-06T11:58:11.395546Z",
     "iopub.status.busy": "2021-07-06T11:58:11.395236Z",
     "iopub.status.idle": "2021-07-06T11:58:11.401766Z",
     "shell.execute_reply": "2021-07-06T11:58:11.400853Z",
     "shell.execute_reply.started": "2021-07-06T11:58:11.395516Z"
    }
   },
   "outputs": [
    {
     "data": {
      "text/plain": [
       "array([2.99 , 4.335, 4.52 , ..., 3.01 , 4.5  , 4.28 ])"
      ]
     },
     "execution_count": 153,
     "metadata": {},
     "output_type": "execute_result"
    }
   ],
   "source": [
    "predict_submission"
   ]
  },
  {
   "cell_type": "code",
   "execution_count": 154,
   "metadata": {
    "execution": {
     "iopub.execute_input": "2021-07-06T11:58:11.403410Z",
     "iopub.status.busy": "2021-07-06T11:58:11.403052Z",
     "iopub.status.idle": "2021-07-06T11:58:11.452379Z",
     "shell.execute_reply": "2021-07-06T11:58:11.451334Z",
     "shell.execute_reply.started": "2021-07-06T11:58:11.403377Z"
    }
   },
   "outputs": [
    {
     "data": {
      "text/html": [
       "<div>\n",
       "<style scoped>\n",
       "    .dataframe tbody tr th:only-of-type {\n",
       "        vertical-align: middle;\n",
       "    }\n",
       "\n",
       "    .dataframe tbody tr th {\n",
       "        vertical-align: top;\n",
       "    }\n",
       "\n",
       "    .dataframe thead th {\n",
       "        text-align: right;\n",
       "    }\n",
       "</style>\n",
       "<table border=\"1\" class=\"dataframe\">\n",
       "  <thead>\n",
       "    <tr style=\"text-align: right;\">\n",
       "      <th></th>\n",
       "      <th>Restaurant_id</th>\n",
       "      <th>Rating</th>\n",
       "    </tr>\n",
       "  </thead>\n",
       "  <tbody>\n",
       "    <tr>\n",
       "      <th>0</th>\n",
       "      <td>id_0</td>\n",
       "      <td>2.990</td>\n",
       "    </tr>\n",
       "    <tr>\n",
       "      <th>1</th>\n",
       "      <td>id_1</td>\n",
       "      <td>4.335</td>\n",
       "    </tr>\n",
       "    <tr>\n",
       "      <th>2</th>\n",
       "      <td>id_2</td>\n",
       "      <td>4.520</td>\n",
       "    </tr>\n",
       "    <tr>\n",
       "      <th>3</th>\n",
       "      <td>id_3</td>\n",
       "      <td>4.190</td>\n",
       "    </tr>\n",
       "    <tr>\n",
       "      <th>4</th>\n",
       "      <td>id_4</td>\n",
       "      <td>4.455</td>\n",
       "    </tr>\n",
       "    <tr>\n",
       "      <th>5</th>\n",
       "      <td>id_5</td>\n",
       "      <td>4.670</td>\n",
       "    </tr>\n",
       "    <tr>\n",
       "      <th>6</th>\n",
       "      <td>id_6</td>\n",
       "      <td>2.355</td>\n",
       "    </tr>\n",
       "    <tr>\n",
       "      <th>7</th>\n",
       "      <td>id_7</td>\n",
       "      <td>2.790</td>\n",
       "    </tr>\n",
       "    <tr>\n",
       "      <th>8</th>\n",
       "      <td>id_8</td>\n",
       "      <td>4.075</td>\n",
       "    </tr>\n",
       "    <tr>\n",
       "      <th>9</th>\n",
       "      <td>id_9</td>\n",
       "      <td>4.760</td>\n",
       "    </tr>\n",
       "  </tbody>\n",
       "</table>\n",
       "</div>"
      ],
      "text/plain": [
       "  Restaurant_id  Rating\n",
       "0          id_0   2.990\n",
       "1          id_1   4.335\n",
       "2          id_2   4.520\n",
       "3          id_3   4.190\n",
       "4          id_4   4.455\n",
       "5          id_5   4.670\n",
       "6          id_6   2.355\n",
       "7          id_7   2.790\n",
       "8          id_8   4.075\n",
       "9          id_9   4.760"
      ]
     },
     "execution_count": 154,
     "metadata": {},
     "output_type": "execute_result"
    }
   ],
   "source": [
    "sample_submission['Rating'] = predict_submission\n",
    "sample_submission.to_csv('submission.csv', index=False)\n",
    "sample_submission.head(10)"
   ]
  }
 ],
 "metadata": {
  "kernelspec": {
   "display_name": "Python 3",
   "language": "python",
   "name": "python3"
  },
  "language_info": {
   "codemirror_mode": {
    "name": "ipython",
    "version": 3
   },
   "file_extension": ".py",
   "mimetype": "text/x-python",
   "name": "python",
   "nbconvert_exporter": "python",
   "pygments_lexer": "ipython3",
   "version": "3.7.10"
  }
 },
 "nbformat": 4,
 "nbformat_minor": 4
}
